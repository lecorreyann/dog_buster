{
 "cells": [
  {
   "cell_type": "code",
   "execution_count": 98,
   "metadata": {},
   "outputs": [],
   "source": [
    "from PIL import Image\n",
    "import os\n",
    "import tensorflow as tf\n",
    "from tensorflow.keras.utils import image_dataset_from_directory\n",
    "import matplotlib.pyplot as plt\n",
    "import numpy as np\n",
    "from tensorflow.keras.callbacks import EarlyStopping\n",
    "from dotenv import load_dotenv\n",
    "from utils import load_img_path_from_dir, img_to_array\n",
    "from data_transformation import data_transformation"
   ]
  },
  {
   "cell_type": "code",
   "execution_count": null,
   "metadata": {},
   "outputs": [],
   "source": [
    "mopdel_1 = True\n",
    "# alternativa de modelos : >>>> VGG16, restnet, google vision\n",
    "def model_2_init():\n",
    "    input_shape=(255,255,3)\n",
    "    model = tf.keras.models.Sequential()\n",
    "    model.add(tf.keras.layers.Conv2D(32,kernel_size=(5,5),input_shape=input_shape,padding='same',activation='relu'))\n",
    "    model.add(tf.keras.layers.Conv2D(64,kernel_size=(5,5),padding='same',activation='relu'))\n",
    "    model.add(tf.keras.layers.MaxPool2D(pool_size=(4,4)))\n",
    "    model.add(tf.keras.layers.Conv2D(128,kernel_size=(4,4),padding='same',activation='relu'))\n",
    "    model.add(tf.keras.layers.Conv2D(160,kernel_size=(4,4),padding='same',activation='relu'))\n",
    "    model.add(tf.keras.layers.MaxPool2D(pool_size=(3,3)))\n",
    "    model.add(tf.keras.layers.Conv2D(256,kernel_size=(3,3),padding='same',activation='relu'))\n",
    "    model.add(tf.keras.layers.Flatten())\n",
    "\n",
    "    model.add(tf.keras.layers.Dense(64,activation='relu'))\n",
    "    model.add(tf.keras.layers.Dropout(0.3))\n",
    "    model.add(tf.keras.layers.Dense(30,activation='relu'))\n",
    "    model.add(tf.keras.layers.Dropout(0.3))\n",
    "    model.add(tf.keras.layers.Dense(2,activation='softmax'))\n",
    "\n",
    "    model.compile(optimizer='adam',loss='categorical_crossentropy',metrics=[tf.keras.metrics.Recall()])\n",
    "    return model\n"
   ]
  },
  {
   "cell_type": "code",
   "execution_count": null,
   "metadata": {},
   "outputs": [],
   "source": [
    "model = model_2_init()"
   ]
  },
  {
   "cell_type": "code",
   "execution_count": null,
   "metadata": {},
   "outputs": [],
   "source": [
    "model.summary()"
   ]
  },
  {
   "cell_type": "code",
   "execution_count": null,
   "metadata": {},
   "outputs": [],
   "source": [
    "dir_train = os.environ.get('TRAIN_PATH')\n",
    "dir_test = os.environ.get('TEST_PATH')\n",
    "dir_val = os.environ.get('VAL_PATH')"
   ]
  },
  {
   "cell_type": "code",
   "execution_count": null,
   "metadata": {},
   "outputs": [],
   "source": [
    "dataset_train = image_dataset_from_directory(\n",
    "  dir_train,\n",
    "  labels = \"inferred\",\n",
    "  label_mode = \"categorical\",\n",
    "  seed=123,\n",
    "  image_size=(255,255),\n",
    "  batch_size=8)"
   ]
  },
  {
   "cell_type": "code",
   "execution_count": null,
   "metadata": {},
   "outputs": [],
   "source": [
    "dataset_val = image_dataset_from_directory(\n",
    "    dir_val,\n",
    "    labels = \"inferred\",\n",
    "    label_mode = \"categorical\",\n",
    "    seed=123,\n",
    "    image_size=(255,255),\n",
    "    batch_size=8\n",
    ")"
   ]
  },
  {
   "cell_type": "code",
   "execution_count": null,
   "metadata": {},
   "outputs": [],
   "source": [
    "dataset_test = image_dataset_from_directory(\n",
    "    dir_test,\n",
    "    labels = 'inferred',\n",
    "    label_mode = 'categorical',\n",
    "    seed=123,\n",
    "    image_size=(255,255),\n",
    "    batch_size=8,\n",
    ")"
   ]
  },
  {
   "cell_type": "code",
   "execution_count": null,
   "metadata": {},
   "outputs": [],
   "source": [
    "# dataset_train = datagen.flow(dataset_train)\n",
    "\n",
    "# Apply data augmentation and prefetch the data\n",
    "# dataset_train = dataset_train.map(lambda x, y: (datagen.random_transform(x), y)).prefetch(buffer_size=tf.data.experimental.AUTOTUNE)"
   ]
  },
  {
   "cell_type": "code",
   "execution_count": null,
   "metadata": {},
   "outputs": [],
   "source": [
    "#es_recall = EarlyStoppingByRecall(monitor='val_recall', value=0.90, verbose=1)\n",
    "es = EarlyStopping(patience=1,restore_best_weights=True)  # Early Stopping normal para la pérdida\n",
    "model = model_2_init()\n",
    "history = model.fit(dataset_train,validation_data=dataset_val,epochs=20,callbacks=[es])"
   ]
  },
  {
   "cell_type": "code",
   "execution_count": null,
   "metadata": {},
   "outputs": [],
   "source": [
    "# load the images from tests/0 and predict\n",
    "img_tests_0 = load_img_path_from_dir(os.environ.get('TEST_PATH')+ '/0')\n",
    "predictions_O = []\n",
    "for img in img_tests_0:\n",
    "    img = img_to_array(img)\n",
    "    predictions_O.append(model.predict(img))"
   ]
  },
  {
   "cell_type": "code",
   "execution_count": 118,
   "metadata": {},
   "outputs": [
    {
     "name": "stdout",
     "output_type": "stream",
     "text": [
      "./Datasets/Dataset_test/1/IMG_1524.jpg\n",
      "1/1 [==============================] - 0s 38ms/step\n",
      "./Datasets/Dataset_test/1/IMG_1525.jpg\n",
      "1/1 [==============================] - 0s 38ms/step\n",
      "./Datasets/Dataset_test/1/IMG_1519.jpg\n",
      "1/1 [==============================] - 0s 45ms/step\n",
      "./Datasets/Dataset_test/1/IMG_1527.jpg\n",
      "1/1 [==============================] - 0s 38ms/step\n",
      "./Datasets/Dataset_test/1/IMG_1526.jpg\n",
      "1/1 [==============================] - 0s 40ms/step\n",
      "./Datasets/Dataset_test/1/IMG_1687.jpg\n",
      "1/1 [==============================] - 0s 41ms/step\n",
      "./Datasets/Dataset_test/1/IMG_1495.jpg\n",
      "1/1 [==============================] - 0s 41ms/step\n",
      "./Datasets/Dataset_test/1/IMG_1522.jpg\n",
      "1/1 [==============================] - 0s 39ms/step\n",
      "./Datasets/Dataset_test/1/IMG_1523.jpg\n",
      "1/1 [==============================] - 0s 42ms/step\n",
      "./Datasets/Dataset_test/1/IMG_1494.jpg\n",
      "1/1 [==============================] - 0s 53ms/step\n",
      "./Datasets/Dataset_test/1/IMG_1521.jpg\n",
      "1/1 [==============================] - 0s 43ms/step\n",
      "./Datasets/Dataset_test/1/IMG_1520.jpg\n",
      "1/1 [==============================] - 0s 40ms/step\n",
      "./Datasets/Dataset_test/1/IMG_1630.jpg\n",
      "1/1 [==============================] - 0s 38ms/step\n",
      "./Datasets/Dataset_test/1/IMG_1587.jpg\n",
      "1/1 [==============================] - 0s 41ms/step\n",
      "./Datasets/Dataset_test/1/IMG_1633.jpg\n",
      "1/1 [==============================] - 0s 38ms/step\n",
      "./Datasets/Dataset_test/1/IMG_1637.jpg\n",
      "1/1 [==============================] - 0s 40ms/step\n",
      "./Datasets/Dataset_test/1/IMG_1636.jpg\n",
      "1/1 [==============================] - 0s 40ms/step\n",
      "./Datasets/Dataset_test/1/IMG_1634.jpg\n",
      "1/1 [==============================] - 0s 37ms/step\n",
      "./Datasets/Dataset_test/1/IMG_1635.jpg\n",
      "1/1 [==============================] - 0s 42ms/step\n",
      "./Datasets/Dataset_test/1/IMG_1638.jpg\n",
      "1/1 [==============================] - 0s 41ms/step\n",
      "./Datasets/Dataset_test/1/IMG_1629.jpg\n",
      "1/1 [==============================] - 0s 42ms/step\n",
      "./Datasets/Dataset_test/1/IMG_1588.jpg\n",
      "1/1 [==============================] - 0s 38ms/step\n",
      "./Datasets/Dataset_test/1/IMG_1628.jpg\n",
      "1/1 [==============================] - 0s 38ms/step\n",
      "./Datasets/Dataset_test/1/IMG_1705.JPG\n",
      "1/1 [==============================] - 0s 38ms/step\n",
      "./Datasets/Dataset_test/1/IMG_1715.jpg\n",
      "1/1 [==============================] - 0s 40ms/step\n",
      "./Datasets/Dataset_test/1/IMG_1714.jpg\n",
      "1/1 [==============================] - 0s 38ms/step\n",
      "./Datasets/Dataset_test/1/IMG_1689.jpg\n",
      "1/1 [==============================] - 0s 39ms/step\n",
      "./Datasets/Dataset_test/1/IMG_1716.jpg\n",
      "1/1 [==============================] - 0s 38ms/step\n",
      "./Datasets/Dataset_test/1/IMG_1528.jpg\n",
      "1/1 [==============================] - 0s 41ms/step\n",
      "./Datasets/Dataset_test/1/IMG_1688.jpg\n",
      "1/1 [==============================] - 0s 39ms/step\n"
     ]
    }
   ],
   "source": [
    "# load the images from tests/1 and predict\n",
    "img_tests_1 = load_img_path_from_dir(os.environ.get('TEST_PATH')+ '/1')\n",
    "predictions_1 = []\n",
    "for img in img_tests_1:\n",
    "    img = img_to_array(img)\n",
    "    img_transformation = data_transformation(img, os.environ.get('TEST_PATH')+ '/t', 1)\n",
    "    predictions_1.append(model.predict(img))"
   ]
  },
  {
   "cell_type": "code",
   "execution_count": null,
   "metadata": {},
   "outputs": [],
   "source": [
    "# Obtener la categoria con más probabilidad\n",
    "for res in predictions_O:\n",
    "    dog_id = np.argmax(res.max())\n",
    "    print(dog_id)"
   ]
  },
  {
   "cell_type": "code",
   "execution_count": null,
   "metadata": {},
   "outputs": [],
   "source": [
    "for res in predictions_1:\n",
    "    dog_id = np.argmax(res.max())\n",
    "    print(dog_id)"
   ]
  },
  {
   "cell_type": "code",
   "execution_count": null,
   "metadata": {},
   "outputs": [],
   "source": [
    "len(predictions_1)"
   ]
  },
  {
   "cell_type": "code",
   "execution_count": null,
   "metadata": {},
   "outputs": [],
   "source": [
    "len(predictions_O)"
   ]
  },
  {
   "cell_type": "code",
   "execution_count": null,
   "metadata": {},
   "outputs": [],
   "source": []
  }
 ],
 "metadata": {
  "kernelspec": {
   "display_name": "dog_buster",
   "language": "python",
   "name": "python3"
  },
  "language_info": {
   "codemirror_mode": {
    "name": "ipython",
    "version": 3
   },
   "file_extension": ".py",
   "mimetype": "text/x-python",
   "name": "python",
   "nbconvert_exporter": "python",
   "pygments_lexer": "ipython3",
   "version": "3.10.6"
  }
 },
 "nbformat": 4,
 "nbformat_minor": 2
}
