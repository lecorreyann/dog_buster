{
 "cells": [
  {
   "cell_type": "code",
   "execution_count": 9,
   "metadata": {},
   "outputs": [
    {
     "name": "stdout",
     "output_type": "stream",
     "text": [
      "The autoreload extension is already loaded. To reload it, use:\n",
      "  %reload_ext autoreload\n"
     ]
    }
   ],
   "source": [
    "%load_ext autoreload\n",
    "%autoreload 2"
   ]
  },
  {
   "cell_type": "code",
   "execution_count": 6,
   "metadata": {},
   "outputs": [],
   "source": [
    "from PIL import Image\n",
    "import os\n",
    "import tensorflow as tf\n",
    "from tensorflow.keras.utils import image_dataset_from_directory\n",
    "import matplotlib.pyplot as plt\n",
    "import numpy as np\n",
    "from tensorflow.keras.callbacks import EarlyStopping\n",
    "from dotenv import load_dotenv\n",
    "from utils import load_img_path_from_dir, img_to_array, get_train_test_datasets, get_dataset\n",
    "from preprocess import balance_datasets\n",
    "from model2 import init as model2_init, compile as model2_compile\n",
    "from sklearn.model_selection import train_test_split"
   ]
  },
  {
   "cell_type": "code",
   "execution_count": 3,
   "metadata": {},
   "outputs": [
    {
     "name": "stderr",
     "output_type": "stream",
     "text": [
      "Downloading...\n",
      "From (uriginal): https://drive.google.com/uc?export=download&id=1Zxpg0eJBkW9T3OA3yoD3mZj5yhI-JqBB\n",
      "From (redirected): https://drive.google.com/uc?export=download&id=1Zxpg0eJBkW9T3OA3yoD3mZj5yhI-JqBB&confirm=t&uuid=a4055690-8660-4e7d-b282-130127dc7af8\n",
      "To: /Users/puchi/code/lecorreyann/dog_buster/file.zip\n",
      "100%|██████████| 160M/160M [00:04<00:00, 37.4MB/s] \n"
     ]
    }
   ],
   "source": [
    "# get_dataset()"
   ]
  },
  {
   "cell_type": "code",
   "execution_count": 3,
   "metadata": {},
   "outputs": [],
   "source": [
    "dir_train_0 = os.environ.get('DOGS_DATASET_TRAIN_PATH') + '/0'\n",
    "dir_train_1 = os.environ.get('DOGS_DATASET_TRAIN_PATH') + '/2'\n",
    "dir_test_1 = os.environ.get('DOGS_DATASET_TEST_PATH') + '/2'"
   ]
  },
  {
   "cell_type": "code",
   "execution_count": 4,
   "metadata": {},
   "outputs": [
    {
     "name": "stdout",
     "output_type": "stream",
     "text": [
      "🖼 Balance datasets\n"
     ]
    }
   ],
   "source": [
    "balance_datasets(\n",
    "    dir_train_0=dir_train_0,\n",
    "    dir_train_1=dir_train_1)"
   ]
  },
  {
   "cell_type": "code",
   "execution_count": 19,
   "metadata": {},
   "outputs": [
    {
     "name": "stdout",
     "output_type": "stream",
     "text": [
      "Found 600 files belonging to 2 classes.\n",
      "Found 2 files belonging to 1 classes.\n"
     ]
    }
   ],
   "source": [
    "train_dataset, val_dataset, test_dataset, features_train, features_test = get_train_test_datasets(dir_train_0, dir_train_1, dir_test_1)"
   ]
  },
  {
   "cell_type": "code",
   "execution_count": 22,
   "metadata": {},
   "outputs": [],
   "source": [
    "from vgg16 import vgg16,set_non_trainable,add_last_layers,build_model\n",
    "from utils import *\n",
    "from preprocess import balance_datasets"
   ]
  },
  {
   "cell_type": "code",
   "execution_count": 116,
   "metadata": {},
   "outputs": [
    {
     "name": "stdout",
     "output_type": "stream",
     "text": [
      "Model: \"sequential_13\"\n",
      "_________________________________________________________________\n",
      " Layer (type)                Output Shape              Param #   \n",
      "=================================================================\n",
      " vgg16 (Functional)          (None, 7, 7, 512)         14714688  \n",
      "                                                                 \n",
      " flatten_13 (Flatten)        (None, 25088)             0         \n",
      "                                                                 \n",
      " dense_41 (Dense)            (None, 64)                1605696   \n",
      "                                                                 \n",
      " dense_42 (Dense)            (None, 128)               8320      \n",
      "                                                                 \n",
      " dense_43 (Dense)            (None, 2)                 258       \n",
      "                                                                 \n",
      "=================================================================\n",
      "Total params: 16,328,962\n",
      "Trainable params: 1,614,274\n",
      "Non-trainable params: 14,714,688\n",
      "_________________________________________________________________\n"
     ]
    }
   ],
   "source": [
    "model_vgg16 = build_model(num_classes=2)\n",
    "model_vgg16.summary()"
   ]
  },
  {
   "cell_type": "code",
   "execution_count": 117,
   "metadata": {},
   "outputs": [
    {
     "name": "stdout",
     "output_type": "stream",
     "text": [
      "Epoch 1/20\n",
      "8/8 [==============================] - 7s 795ms/step - loss: 2.5432 - accuracy: 0.6452 - val_loss: 1.9169 - val_accuracy: 0.6875\n",
      "Epoch 2/20\n",
      "8/8 [==============================] - 6s 742ms/step - loss: 0.0349 - accuracy: 0.9839 - val_loss: 0.9341 - val_accuracy: 0.8750\n",
      "Epoch 3/20\n",
      "8/8 [==============================] - 6s 745ms/step - loss: 4.5970e-06 - accuracy: 1.0000 - val_loss: 0.5513 - val_accuracy: 0.8750\n",
      "Epoch 4/20\n",
      "8/8 [==============================] - 6s 745ms/step - loss: 7.9600e-07 - accuracy: 1.0000 - val_loss: 0.3903 - val_accuracy: 0.8750\n",
      "Epoch 5/20\n",
      "8/8 [==============================] - 6s 762ms/step - loss: 3.6916e-07 - accuracy: 1.0000 - val_loss: 0.3088 - val_accuracy: 0.8750\n",
      "Epoch 6/20\n",
      "8/8 [==============================] - 6s 774ms/step - loss: 1.9996e-07 - accuracy: 1.0000 - val_loss: 0.2745 - val_accuracy: 0.8750\n",
      "Epoch 7/20\n",
      "8/8 [==============================] - 6s 830ms/step - loss: 1.0960e-07 - accuracy: 1.0000 - val_loss: 0.2595 - val_accuracy: 0.8750\n",
      "Epoch 8/20\n",
      "8/8 [==============================] - 6s 820ms/step - loss: 7.8832e-08 - accuracy: 1.0000 - val_loss: 0.2530 - val_accuracy: 0.8750\n",
      "Epoch 9/20\n",
      "8/8 [==============================] - 6s 815ms/step - loss: 7.1141e-08 - accuracy: 1.0000 - val_loss: 0.2508 - val_accuracy: 0.8750\n",
      "Epoch 10/20\n",
      "8/8 [==============================] - 7s 853ms/step - loss: 5.3836e-08 - accuracy: 1.0000 - val_loss: 0.2499 - val_accuracy: 0.8750\n",
      "Epoch 11/20\n",
      "8/8 [==============================] - 6s 830ms/step - loss: 4.8068e-08 - accuracy: 1.0000 - val_loss: 0.2498 - val_accuracy: 0.8750\n",
      "Epoch 12/20\n",
      "8/8 [==============================] - 6s 832ms/step - loss: 4.8068e-08 - accuracy: 1.0000 - val_loss: 0.2504 - val_accuracy: 0.8750\n",
      "Epoch 13/20\n",
      "8/8 [==============================] - 10s 1s/step - loss: 4.4223e-08 - accuracy: 1.0000 - val_loss: 0.2507 - val_accuracy: 0.8750\n",
      "Epoch 14/20\n",
      "8/8 [==============================] - 17s 2s/step - loss: 4.2300e-08 - accuracy: 1.0000 - val_loss: 0.2510 - val_accuracy: 0.8750\n"
     ]
    }
   ],
   "source": [
    "es = EarlyStopping(patience=3,restore_best_weights=True)  # Early Stopping normal para la pérdida\n",
    "history=model_vgg16.fit(train_dataset,validation_data=val_dataset,epochs=20,callbacks=[es])"
   ]
  },
  {
   "cell_type": "code",
   "execution_count": 118,
   "metadata": {},
   "outputs": [
    {
     "name": "stdout",
     "output_type": "stream",
     "text": [
      "3/3 [==============================] - 2s 556ms/step - loss: 1.8918 - accuracy: 0.8500\n"
     ]
    },
    {
     "data": {
      "text/plain": [
       "[1.8917649984359741, 0.8500000238418579]"
      ]
     },
     "execution_count": 118,
     "metadata": {},
     "output_type": "execute_result"
    }
   ],
   "source": [
    "model_vgg16.evaluate(test_dataset)"
   ]
  },
  {
   "cell_type": "code",
   "execution_count": 56,
   "metadata": {},
   "outputs": [
    {
     "name": "stdout",
     "output_type": "stream",
     "text": [
      "1/1 [==============================] - 0s 149ms/step\n",
      "1/1 [==============================] - 0s 142ms/step\n",
      "1/1 [==============================] - 0s 150ms/step\n",
      "1/1 [==============================] - 0s 147ms/step\n",
      "1/1 [==============================] - 0s 144ms/step\n",
      "1/1 [==============================] - 0s 143ms/step\n",
      "1/1 [==============================] - 0s 143ms/step\n",
      "1/1 [==============================] - 0s 146ms/step\n",
      "1/1 [==============================] - 0s 147ms/step\n",
      "1/1 [==============================] - 0s 147ms/step\n",
      "1/1 [==============================] - 0s 177ms/step\n",
      "1/1 [==============================] - 0s 152ms/step\n",
      "1/1 [==============================] - 0s 146ms/step\n",
      "1/1 [==============================] - 0s 153ms/step\n",
      "1/1 [==============================] - 0s 150ms/step\n",
      "1/1 [==============================] - 0s 164ms/step\n",
      "1/1 [==============================] - 0s 150ms/step\n",
      "1/1 [==============================] - 0s 151ms/step\n",
      "1/1 [==============================] - 0s 156ms/step\n",
      "1/1 [==============================] - 0s 182ms/step\n",
      "1/1 [==============================] - 0s 168ms/step\n",
      "1/1 [==============================] - 0s 153ms/step\n",
      "1/1 [==============================] - 0s 154ms/step\n",
      "1/1 [==============================] - 0s 149ms/step\n",
      "1/1 [==============================] - 0s 179ms/step\n",
      "1/1 [==============================] - 0s 197ms/step\n",
      "1/1 [==============================] - 0s 155ms/step\n",
      "1/1 [==============================] - 0s 154ms/step\n",
      "1/1 [==============================] - 0s 149ms/step\n",
      "1/1 [==============================] - 0s 154ms/step\n",
      "1/1 [==============================] - 0s 152ms/step\n",
      "1/1 [==============================] - 0s 152ms/step\n",
      "1/1 [==============================] - 0s 151ms/step\n",
      "1/1 [==============================] - 0s 154ms/step\n",
      "1/1 [==============================] - 0s 152ms/step\n",
      "1/1 [==============================] - 0s 154ms/step\n",
      "1/1 [==============================] - 0s 157ms/step\n",
      "1/1 [==============================] - 0s 154ms/step\n",
      "1/1 [==============================] - 0s 157ms/step\n",
      "1/1 [==============================] - 0s 155ms/step\n",
      "1/1 [==============================] - 0s 156ms/step\n",
      "1/1 [==============================] - 0s 156ms/step\n",
      "1/1 [==============================] - 0s 150ms/step\n",
      "1/1 [==============================] - 0s 155ms/step\n",
      "1/1 [==============================] - 0s 156ms/step\n",
      "1/1 [==============================] - 0s 152ms/step\n",
      "1/1 [==============================] - 0s 153ms/step\n",
      "1/1 [==============================] - 0s 157ms/step\n",
      "1/1 [==============================] - 0s 158ms/step\n",
      "1/1 [==============================] - 0s 156ms/step\n",
      "1/1 [==============================] - 0s 158ms/step\n",
      "1/1 [==============================] - 0s 158ms/step\n",
      "1/1 [==============================] - 0s 157ms/step\n",
      "1/1 [==============================] - 0s 152ms/step\n",
      "1/1 [==============================] - 0s 153ms/step\n",
      "1/1 [==============================] - 0s 156ms/step\n",
      "1/1 [==============================] - 0s 153ms/step\n",
      "1/1 [==============================] - 0s 158ms/step\n",
      "1/1 [==============================] - 0s 154ms/step\n",
      "1/1 [==============================] - 0s 158ms/step\n",
      "1/1 [==============================] - 0s 159ms/step\n",
      "1/1 [==============================] - 0s 159ms/step\n",
      "1/1 [==============================] - 0s 161ms/step\n",
      "1/1 [==============================] - 0s 160ms/step\n",
      "1/1 [==============================] - 0s 152ms/step\n",
      "1/1 [==============================] - 0s 155ms/step\n",
      "1/1 [==============================] - 0s 155ms/step\n",
      "1/1 [==============================] - 0s 159ms/step\n",
      "1/1 [==============================] - 0s 159ms/step\n",
      "1/1 [==============================] - 0s 161ms/step\n",
      "1/1 [==============================] - 0s 160ms/step\n",
      "1/1 [==============================] - 0s 154ms/step\n",
      "1/1 [==============================] - 0s 159ms/step\n",
      "1/1 [==============================] - 0s 159ms/step\n",
      "1/1 [==============================] - 0s 156ms/step\n",
      "1/1 [==============================] - 0s 157ms/step\n",
      "1/1 [==============================] - 0s 157ms/step\n",
      "1/1 [==============================] - 0s 162ms/step\n",
      "1/1 [==============================] - 0s 155ms/step\n",
      "1/1 [==============================] - 0s 165ms/step\n",
      "1/1 [==============================] - 0s 160ms/step\n",
      "1/1 [==============================] - 0s 162ms/step\n",
      "1/1 [==============================] - 0s 162ms/step\n",
      "1/1 [==============================] - 0s 157ms/step\n",
      "1/1 [==============================] - 0s 158ms/step\n",
      "1/1 [==============================] - 0s 159ms/step\n",
      "1/1 [==============================] - 0s 160ms/step\n",
      "1/1 [==============================] - 0s 161ms/step\n",
      "1/1 [==============================] - 0s 162ms/step\n",
      "1/1 [==============================] - 0s 164ms/step\n",
      "1/1 [==============================] - 0s 161ms/step\n",
      "1/1 [==============================] - 0s 159ms/step\n",
      "1/1 [==============================] - 0s 158ms/step\n",
      "1/1 [==============================] - 0s 155ms/step\n",
      "1/1 [==============================] - 0s 160ms/step\n",
      "1/1 [==============================] - 0s 160ms/step\n",
      "1/1 [==============================] - 0s 162ms/step\n",
      "1/1 [==============================] - 0s 160ms/step\n",
      "1/1 [==============================] - 0s 160ms/step\n",
      "1/1 [==============================] - 0s 163ms/step\n",
      "1/1 [==============================] - 0s 160ms/step\n",
      "1/1 [==============================] - 0s 161ms/step\n",
      "1/1 [==============================] - 0s 163ms/step\n",
      "1/1 [==============================] - 0s 162ms/step\n",
      "1/1 [==============================] - 0s 164ms/step\n",
      "1/1 [==============================] - 0s 163ms/step\n",
      "1/1 [==============================] - 0s 159ms/step\n",
      "1/1 [==============================] - 0s 160ms/step\n",
      "1/1 [==============================] - 0s 163ms/step\n",
      "1/1 [==============================] - 0s 164ms/step\n",
      "1/1 [==============================] - 0s 157ms/step\n",
      "1/1 [==============================] - 0s 163ms/step\n",
      "1/1 [==============================] - 0s 163ms/step\n",
      "1/1 [==============================] - 0s 162ms/step\n",
      "1/1 [==============================] - 0s 158ms/step\n",
      "1/1 [==============================] - 0s 165ms/step\n",
      "1/1 [==============================] - 0s 163ms/step\n",
      "1/1 [==============================] - 0s 157ms/step\n",
      "1/1 [==============================] - 0s 156ms/step\n",
      "1/1 [==============================] - 0s 164ms/step\n",
      "1/1 [==============================] - 0s 179ms/step\n",
      "1/1 [==============================] - 0s 159ms/step\n",
      "1/1 [==============================] - 0s 161ms/step\n",
      "1/1 [==============================] - 0s 162ms/step\n",
      "1/1 [==============================] - 0s 167ms/step\n",
      "1/1 [==============================] - 0s 159ms/step\n",
      "1/1 [==============================] - 0s 163ms/step\n",
      "1/1 [==============================] - 0s 163ms/step\n",
      "1/1 [==============================] - 0s 160ms/step\n",
      "1/1 [==============================] - 0s 167ms/step\n",
      "1/1 [==============================] - 0s 165ms/step\n",
      "1/1 [==============================] - 0s 163ms/step\n",
      "1/1 [==============================] - 0s 159ms/step\n",
      "1/1 [==============================] - 0s 164ms/step\n",
      "1/1 [==============================] - 0s 163ms/step\n",
      "1/1 [==============================] - 0s 164ms/step\n",
      "1/1 [==============================] - 0s 172ms/step\n",
      "1/1 [==============================] - 0s 161ms/step\n",
      "1/1 [==============================] - 0s 163ms/step\n",
      "1/1 [==============================] - 0s 163ms/step\n",
      "1/1 [==============================] - 0s 165ms/step\n",
      "1/1 [==============================] - 0s 164ms/step\n",
      "1/1 [==============================] - 0s 161ms/step\n",
      "1/1 [==============================] - 0s 161ms/step\n",
      "1/1 [==============================] - 0s 157ms/step\n",
      "1/1 [==============================] - 0s 165ms/step\n",
      "1/1 [==============================] - 0s 165ms/step\n",
      "1/1 [==============================] - 0s 163ms/step\n",
      "1/1 [==============================] - 0s 165ms/step\n",
      "1/1 [==============================] - 0s 163ms/step\n",
      "1/1 [==============================] - 0s 166ms/step\n",
      "1/1 [==============================] - 0s 171ms/step\n",
      "1/1 [==============================] - 0s 167ms/step\n",
      "1/1 [==============================] - 0s 166ms/step\n",
      "1/1 [==============================] - 0s 168ms/step\n",
      "1/1 [==============================] - 0s 166ms/step\n",
      "1/1 [==============================] - 0s 166ms/step\n",
      "1/1 [==============================] - 0s 162ms/step\n",
      "1/1 [==============================] - 0s 164ms/step\n",
      "1/1 [==============================] - 0s 168ms/step\n",
      "1/1 [==============================] - 0s 165ms/step\n",
      "1/1 [==============================] - 0s 162ms/step\n",
      "1/1 [==============================] - 0s 163ms/step\n",
      "1/1 [==============================] - 0s 167ms/step\n",
      "1/1 [==============================] - 0s 164ms/step\n",
      "1/1 [==============================] - 0s 168ms/step\n",
      "1/1 [==============================] - 0s 164ms/step\n",
      "1/1 [==============================] - 0s 164ms/step\n",
      "1/1 [==============================] - 0s 166ms/step\n",
      "1/1 [==============================] - 0s 166ms/step\n",
      "1/1 [==============================] - 0s 167ms/step\n",
      "1/1 [==============================] - 0s 165ms/step\n",
      "1/1 [==============================] - 0s 168ms/step\n",
      "1/1 [==============================] - 0s 165ms/step\n",
      "1/1 [==============================] - 0s 168ms/step\n",
      "1/1 [==============================] - 0s 166ms/step\n",
      "1/1 [==============================] - 0s 165ms/step\n",
      "1/1 [==============================] - 0s 165ms/step\n",
      "1/1 [==============================] - 0s 168ms/step\n",
      "1/1 [==============================] - 0s 167ms/step\n",
      "1/1 [==============================] - 0s 169ms/step\n",
      "1/1 [==============================] - 0s 167ms/step\n",
      "1/1 [==============================] - 0s 166ms/step\n",
      "1/1 [==============================] - 0s 168ms/step\n",
      "1/1 [==============================] - 0s 166ms/step\n",
      "1/1 [==============================] - 0s 169ms/step\n",
      "1/1 [==============================] - 0s 167ms/step\n",
      "1/1 [==============================] - 0s 168ms/step\n",
      "1/1 [==============================] - 0s 171ms/step\n",
      "1/1 [==============================] - 0s 169ms/step\n",
      "1/1 [==============================] - 0s 169ms/step\n",
      "1/1 [==============================] - 0s 167ms/step\n",
      "1/1 [==============================] - 0s 163ms/step\n",
      "1/1 [==============================] - 0s 193ms/step\n",
      "1/1 [==============================] - 0s 168ms/step\n",
      "1/1 [==============================] - 0s 167ms/step\n",
      "1/1 [==============================] - 0s 171ms/step\n",
      "1/1 [==============================] - 0s 168ms/step\n",
      "1/1 [==============================] - 0s 170ms/step\n",
      "1/1 [==============================] - 0s 167ms/step\n",
      "1/1 [==============================] - 0s 166ms/step\n",
      "1/1 [==============================] - 0s 172ms/step\n",
      "1/1 [==============================] - 0s 171ms/step\n",
      "1/1 [==============================] - 0s 167ms/step\n",
      "1/1 [==============================] - 0s 168ms/step\n",
      "1/1 [==============================] - 0s 169ms/step\n",
      "1/1 [==============================] - 0s 169ms/step\n",
      "1/1 [==============================] - 0s 169ms/step\n",
      "1/1 [==============================] - 0s 171ms/step\n",
      "1/1 [==============================] - 0s 163ms/step\n",
      "1/1 [==============================] - 0s 169ms/step\n",
      "1/1 [==============================] - 0s 168ms/step\n",
      "1/1 [==============================] - 0s 173ms/step\n",
      "1/1 [==============================] - 0s 169ms/step\n",
      "1/1 [==============================] - 0s 170ms/step\n",
      "1/1 [==============================] - 0s 161ms/step\n",
      "1/1 [==============================] - 0s 170ms/step\n",
      "1/1 [==============================] - 0s 170ms/step\n",
      "1/1 [==============================] - 0s 167ms/step\n",
      "1/1 [==============================] - 0s 170ms/step\n",
      "1/1 [==============================] - 0s 164ms/step\n",
      "1/1 [==============================] - 0s 164ms/step\n",
      "1/1 [==============================] - 0s 171ms/step\n",
      "1/1 [==============================] - 0s 168ms/step\n",
      "1/1 [==============================] - 0s 170ms/step\n",
      "1/1 [==============================] - 0s 166ms/step\n",
      "1/1 [==============================] - 0s 170ms/step\n",
      "1/1 [==============================] - 0s 168ms/step\n",
      "1/1 [==============================] - 0s 162ms/step\n",
      "1/1 [==============================] - 0s 170ms/step\n",
      "1/1 [==============================] - 0s 168ms/step\n",
      "1/1 [==============================] - 0s 168ms/step\n",
      "1/1 [==============================] - 0s 167ms/step\n",
      "1/1 [==============================] - 0s 164ms/step\n",
      "1/1 [==============================] - 0s 167ms/step\n",
      "1/1 [==============================] - 0s 169ms/step\n",
      "1/1 [==============================] - 0s 166ms/step\n",
      "1/1 [==============================] - 0s 167ms/step\n",
      "1/1 [==============================] - 0s 169ms/step\n",
      "1/1 [==============================] - 0s 173ms/step\n",
      "1/1 [==============================] - 0s 164ms/step\n",
      "1/1 [==============================] - 0s 168ms/step\n",
      "1/1 [==============================] - 0s 167ms/step\n",
      "1/1 [==============================] - 0s 167ms/step\n",
      "1/1 [==============================] - 0s 169ms/step\n",
      "1/1 [==============================] - 0s 163ms/step\n",
      "1/1 [==============================] - 0s 166ms/step\n",
      "1/1 [==============================] - 0s 165ms/step\n",
      "1/1 [==============================] - 0s 161ms/step\n",
      "1/1 [==============================] - 0s 165ms/step\n",
      "1/1 [==============================] - 0s 169ms/step\n",
      "1/1 [==============================] - 0s 168ms/step\n",
      "1/1 [==============================] - 0s 170ms/step\n",
      "1/1 [==============================] - 0s 170ms/step\n",
      "1/1 [==============================] - 0s 185ms/step\n",
      "1/1 [==============================] - 0s 168ms/step\n",
      "1/1 [==============================] - 0s 170ms/step\n",
      "1/1 [==============================] - 0s 161ms/step\n",
      "1/1 [==============================] - 0s 166ms/step\n",
      "1/1 [==============================] - 0s 169ms/step\n",
      "1/1 [==============================] - 0s 168ms/step\n",
      "1/1 [==============================] - 0s 169ms/step\n",
      "1/1 [==============================] - 0s 170ms/step\n",
      "1/1 [==============================] - 0s 166ms/step\n",
      "1/1 [==============================] - 0s 163ms/step\n",
      "1/1 [==============================] - 0s 167ms/step\n",
      "1/1 [==============================] - 0s 170ms/step\n",
      "1/1 [==============================] - 0s 166ms/step\n",
      "1/1 [==============================] - 0s 168ms/step\n",
      "1/1 [==============================] - 0s 169ms/step\n",
      "1/1 [==============================] - 0s 171ms/step\n",
      "1/1 [==============================] - 0s 169ms/step\n",
      "1/1 [==============================] - 0s 166ms/step\n",
      "1/1 [==============================] - 0s 167ms/step\n",
      "1/1 [==============================] - 0s 171ms/step\n",
      "1/1 [==============================] - 0s 169ms/step\n",
      "1/1 [==============================] - 0s 168ms/step\n",
      "1/1 [==============================] - 0s 172ms/step\n",
      "1/1 [==============================] - 0s 172ms/step\n",
      "1/1 [==============================] - 0s 171ms/step\n",
      "1/1 [==============================] - 0s 172ms/step\n",
      "1/1 [==============================] - 0s 170ms/step\n",
      "1/1 [==============================] - 0s 167ms/step\n",
      "1/1 [==============================] - 0s 168ms/step\n",
      "1/1 [==============================] - 0s 161ms/step\n",
      "1/1 [==============================] - 0s 164ms/step\n",
      "1/1 [==============================] - 0s 167ms/step\n",
      "1/1 [==============================] - 0s 170ms/step\n",
      "1/1 [==============================] - 0s 171ms/step\n",
      "1/1 [==============================] - 0s 171ms/step\n",
      "1/1 [==============================] - 0s 168ms/step\n",
      "1/1 [==============================] - 0s 168ms/step\n",
      "1/1 [==============================] - 0s 162ms/step\n",
      "1/1 [==============================] - 0s 167ms/step\n",
      "1/1 [==============================] - 0s 167ms/step\n",
      "1/1 [==============================] - 0s 168ms/step\n",
      "1/1 [==============================] - 0s 171ms/step\n",
      "1/1 [==============================] - 0s 172ms/step\n",
      "1/1 [==============================] - 0s 170ms/step\n",
      "1/1 [==============================] - 0s 173ms/step\n",
      "1/1 [==============================] - 0s 169ms/step\n"
     ]
    }
   ],
   "source": [
    "img_tests_1 = load_img_path_from_dir(os.environ.get('DATASET_PATH')+ '/1')\n",
    "predictions_2 = []\n",
    "for img in img_tests_1:\n",
    "    img = img_to_array(img)\n",
    "    predictions_2.append(model_vgg16.predict(img))"
   ]
  },
  {
   "cell_type": "code",
   "execution_count": 57,
   "metadata": {},
   "outputs": [],
   "source": [
    "temp = []\n",
    "for res in predictions_2:\n",
    "    dog_id = np.argmax(res)\n",
    "    temp.append(dog_id)\n",
    "temp=np.array(temp)"
   ]
  },
  {
   "cell_type": "code",
   "execution_count": 58,
   "metadata": {},
   "outputs": [
    {
     "data": {
      "text/plain": [
       "97.34219269102991"
      ]
     },
     "execution_count": 58,
     "metadata": {},
     "output_type": "execute_result"
    }
   ],
   "source": [
    "((temp==1).sum())/len(temp)*100"
   ]
  },
  {
   "cell_type": "markdown",
   "metadata": {},
   "source": [
    "## ResNet50"
   ]
  },
  {
   "cell_type": "code",
   "execution_count": 7,
   "metadata": {},
   "outputs": [],
   "source": [
    "from RESNET import build_resnet\n",
    "from utils import *\n",
    "from preprocess import balance_datasets"
   ]
  },
  {
   "cell_type": "code",
   "execution_count": 8,
   "metadata": {},
   "outputs": [
    {
     "name": "stdout",
     "output_type": "stream",
     "text": [
      "Model: \"sequential\"\n",
      "_________________________________________________________________\n",
      " Layer (type)                Output Shape              Param #   \n",
      "=================================================================\n",
      " resnet50 (Functional)       (None, 8, 8, 2048)        23587712  \n",
      "                                                                 \n",
      " flatten (Flatten)           (None, 131072)            0         \n",
      "                                                                 \n",
      " dense (Dense)               (None, 124)               16253052  \n",
      "                                                                 \n",
      " dropout (Dropout)           (None, 124)               0         \n",
      "                                                                 \n",
      " dense_1 (Dense)             (None, 54)                6750      \n",
      "                                                                 \n",
      " dropout_1 (Dropout)         (None, 54)                0         \n",
      "                                                                 \n",
      " dense_2 (Dense)             (None, 2)                 110       \n",
      "                                                                 \n",
      "=================================================================\n",
      "Total params: 39,847,624\n",
      "Trainable params: 16,259,912\n",
      "Non-trainable params: 23,587,712\n",
      "_________________________________________________________________\n"
     ]
    }
   ],
   "source": [
    "model_Resnet = build_resnet(num_classes=2)\n",
    "model_Resnet.summary()"
   ]
  },
  {
   "cell_type": "code",
   "execution_count": 37,
   "metadata": {},
   "outputs": [
    {
     "name": "stdout",
     "output_type": "stream",
     "text": [
      "Epoch 1/20\n",
      "60/60 [==============================] - 24s 371ms/step - loss: 3.7671 - accuracy: 0.8833 - val_loss: 0.3953 - val_accuracy: 0.9750\n",
      "Epoch 2/20\n",
      "60/60 [==============================] - 22s 363ms/step - loss: 0.5442 - accuracy: 0.9771 - val_loss: 0.0028 - val_accuracy: 1.0000\n",
      "Epoch 3/20\n",
      "60/60 [==============================] - 22s 374ms/step - loss: 1.2810 - accuracy: 0.9771 - val_loss: 0.0000e+00 - val_accuracy: 1.0000\n",
      "Epoch 4/20\n",
      "60/60 [==============================] - 22s 365ms/step - loss: 0.2749 - accuracy: 0.9896 - val_loss: 0.0000e+00 - val_accuracy: 1.0000\n",
      "Epoch 5/20\n",
      "60/60 [==============================] - 22s 360ms/step - loss: 0.7002 - accuracy: 0.9896 - val_loss: 0.0000e+00 - val_accuracy: 1.0000\n",
      "Epoch 6/20\n",
      "60/60 [==============================] - 21s 350ms/step - loss: 0.3597 - accuracy: 0.9937 - val_loss: 0.0000e+00 - val_accuracy: 1.0000\n"
     ]
    }
   ],
   "source": [
    "es = EarlyStopping(patience=3,restore_best_weights=True)  # Early Stopping normal para la pérdida\n",
    "history=model_Resnet.fit(train_dataset,validation_data=val_dataset,epochs=20,callbacks=[es])"
   ]
  },
  {
   "cell_type": "code",
   "execution_count": 40,
   "metadata": {},
   "outputs": [
    {
     "name": "stdout",
     "output_type": "stream",
     "text": [
      "1/1 [==============================] - 1s 864ms/step - loss: 172.9913 - accuracy: 0.5000\n"
     ]
    },
    {
     "data": {
      "text/plain": [
       "[172.9912872314453, 0.5]"
      ]
     },
     "execution_count": 40,
     "metadata": {},
     "output_type": "execute_result"
    }
   ],
   "source": [
    "model_Resnet.evaluate(test_dataset)"
   ]
  },
  {
   "cell_type": "code",
   "execution_count": 38,
   "metadata": {},
   "outputs": [
    {
     "name": "stdout",
     "output_type": "stream",
     "text": [
      "1/1 [==============================] - 1s 564ms/step\n"
     ]
    }
   ],
   "source": [
    "results_0 = model_Resnet.predict(test_dataset)"
   ]
  },
  {
   "cell_type": "code",
   "execution_count": 39,
   "metadata": {},
   "outputs": [
    {
     "data": {
      "text/plain": [
       "array([[0.0000000e+00, 1.0000000e+00],\n",
       "       [1.0000000e+00, 5.8248873e-35]], dtype=float32)"
      ]
     },
     "execution_count": 39,
     "metadata": {},
     "output_type": "execute_result"
    }
   ],
   "source": [
    "results_0"
   ]
  },
  {
   "cell_type": "code",
   "execution_count": null,
   "metadata": {},
   "outputs": [],
   "source": [
    "model_Resnet.save(f'models/model_Resnet_1.h5')"
   ]
  },
  {
   "cell_type": "markdown",
   "metadata": {},
   "source": [
    "# Autoencode"
   ]
  },
  {
   "cell_type": "code",
   "execution_count": 12,
   "metadata": {},
   "outputs": [],
   "source": [
    "from autoencode import build_autoencoder, build_encoder, build_decoder, compile_autoencoder"
   ]
  },
  {
   "cell_type": "code",
   "execution_count": 14,
   "metadata": {},
   "outputs": [
    {
     "name": "stdout",
     "output_type": "stream",
     "text": [
      "Model: \"sequential_2\"\n",
      "_________________________________________________________________\n",
      " Layer (type)                Output Shape              Param #   \n",
      "=================================================================\n",
      " conv2d_4 (Conv2D)           (None, 299, 299, 8)       104       \n",
      "                                                                 \n",
      " max_pooling2d_3 (MaxPooling  (None, 149, 149, 8)      0         \n",
      " 2D)                                                             \n",
      "                                                                 \n",
      " conv2d_5 (Conv2D)           (None, 148, 148, 16)      528       \n",
      "                                                                 \n",
      " max_pooling2d_4 (MaxPooling  (None, 74, 74, 16)       0         \n",
      " 2D)                                                             \n",
      "                                                                 \n",
      " conv2d_6 (Conv2D)           (None, 73, 73, 32)        2080      \n",
      "                                                                 \n",
      " max_pooling2d_5 (MaxPooling  (None, 36, 36, 32)       0         \n",
      " 2D)                                                             \n",
      "                                                                 \n",
      " flatten_1 (Flatten)         (None, 41472)             0         \n",
      "                                                                 \n",
      " dense_1 (Dense)             (None, 2)                 82946     \n",
      "                                                                 \n",
      "=================================================================\n",
      "Total params: 85,658\n",
      "Trainable params: 85,658\n",
      "Non-trainable params: 0\n",
      "_________________________________________________________________\n"
     ]
    }
   ],
   "source": [
    "encoder = build_encoder(2)\n",
    "encoder.summary()"
   ]
  },
  {
   "cell_type": "code",
   "execution_count": 15,
   "metadata": {},
   "outputs": [
    {
     "name": "stdout",
     "output_type": "stream",
     "text": [
      "Model: \"sequential_3\"\n",
      "_________________________________________________________________\n",
      " Layer (type)                Output Shape              Param #   \n",
      "=================================================================\n",
      " dense_2 (Dense)             (None, 45000)             135000    \n",
      "                                                                 \n",
      " reshape (Reshape)           (None, 75, 75, 8)         0         \n",
      "                                                                 \n",
      " conv2d_transpose (Conv2DTra  (None, 150, 150, 8)      264       \n",
      " nspose)                                                         \n",
      "                                                                 \n",
      " conv2d_transpose_1 (Conv2DT  (None, 300, 300, 1)      33        \n",
      " ranspose)                                                       \n",
      "                                                                 \n",
      "=================================================================\n",
      "Total params: 135,297\n",
      "Trainable params: 135,297\n",
      "Non-trainable params: 0\n",
      "_________________________________________________________________\n"
     ]
    }
   ],
   "source": [
    "decoder = build_decoder(2)\n",
    "decoder.summary()"
   ]
  },
  {
   "cell_type": "code",
   "execution_count": 16,
   "metadata": {},
   "outputs": [
    {
     "name": "stdout",
     "output_type": "stream",
     "text": [
      "Model: \"model\"\n",
      "_________________________________________________________________\n",
      " Layer (type)                Output Shape              Param #   \n",
      "=================================================================\n",
      " input_1 (InputLayer)        [(None, 300, 300, 3)]     0         \n",
      "                                                                 \n",
      " sequential_2 (Sequential)   (None, 2)                 85658     \n",
      "                                                                 \n",
      " sequential_3 (Sequential)   (None, 300, 300, 1)       135297    \n",
      "                                                                 \n",
      "=================================================================\n",
      "Total params: 220,955\n",
      "Trainable params: 220,955\n",
      "Non-trainable params: 0\n",
      "_________________________________________________________________\n"
     ]
    }
   ],
   "source": [
    "autoencoder = build_autoencoder(encoder, decoder)\n",
    "autoencoder.summary()"
   ]
  },
  {
   "cell_type": "code",
   "execution_count": 17,
   "metadata": {},
   "outputs": [
    {
     "name": "stdout",
     "output_type": "stream",
     "text": [
      "Model: \"sequential_2\"\n",
      "_________________________________________________________________\n",
      " Layer (type)                Output Shape              Param #   \n",
      "=================================================================\n",
      " dense_2 (Dense)             (None, 520200)            1560600   \n",
      "                                                                 \n",
      " reshape (Reshape)           (None, 255, 255, 8)       0         \n",
      "                                                                 \n",
      " conv2d_transpose (Conv2DTra  (None, 510, 510, 8)      584       \n",
      " nspose)                                                         \n",
      "                                                                 \n",
      " conv2d_transpose_1 (Conv2DT  (None, 1020, 1020, 1)    73        \n",
      " ranspose)                                                       \n",
      "                                                                 \n",
      "=================================================================\n",
      "Total params: 1,561,257\n",
      "Trainable params: 1,561,257\n",
      "Non-trainable params: 0\n",
      "_________________________________________________________________\n"
     ]
    }
   ],
   "source": [
    "decoder.summary()"
   ]
  },
  {
   "cell_type": "code",
   "execution_count": 17,
   "metadata": {},
   "outputs": [
    {
     "name": "stdout",
     "output_type": "stream",
     "text": [
      "Epoch 1/20\n",
      "19/19 [==============================] - 3s 148ms/step - loss: 15804.1963\n",
      "Epoch 2/20\n",
      "19/19 [==============================] - 3s 148ms/step - loss: 15795.5049\n",
      "Epoch 3/20\n",
      "19/19 [==============================] - 3s 151ms/step - loss: 15782.0684\n",
      "Epoch 4/20\n",
      "19/19 [==============================] - 3s 152ms/step - loss: 15759.7148\n",
      "Epoch 5/20\n",
      "19/19 [==============================] - 3s 147ms/step - loss: 15724.2217\n",
      "Epoch 6/20\n",
      "19/19 [==============================] - 3s 148ms/step - loss: 15668.7715\n",
      "Epoch 7/20\n",
      "19/19 [==============================] - 3s 147ms/step - loss: 15587.8613\n",
      "Epoch 8/20\n",
      "19/19 [==============================] - 3s 146ms/step - loss: 15474.6963\n",
      "Epoch 9/20\n",
      "19/19 [==============================] - 3s 150ms/step - loss: 15325.3535\n",
      "Epoch 10/20\n",
      "19/19 [==============================] - 3s 150ms/step - loss: 15138.8203\n",
      "Epoch 11/20\n",
      "19/19 [==============================] - 3s 146ms/step - loss: 14918.8066\n",
      "Epoch 12/20\n",
      "19/19 [==============================] - 3s 151ms/step - loss: 14667.4297\n",
      "Epoch 13/20\n",
      "19/19 [==============================] - 3s 146ms/step - loss: 14392.5713\n",
      "Epoch 14/20\n",
      "19/19 [==============================] - 3s 149ms/step - loss: 14096.2002\n",
      "Epoch 15/20\n",
      "19/19 [==============================] - 3s 152ms/step - loss: 13780.7871\n",
      "Epoch 16/20\n",
      "19/19 [==============================] - 3s 158ms/step - loss: 13453.7100\n",
      "Epoch 17/20\n",
      "19/19 [==============================] - 3s 157ms/step - loss: 13113.3105\n",
      "Epoch 18/20\n",
      "19/19 [==============================] - 3s 150ms/step - loss: 12767.0557\n",
      "Epoch 19/20\n",
      "19/19 [==============================] - 3s 150ms/step - loss: 12412.6797\n",
      "Epoch 20/20\n",
      "19/19 [==============================] - 3s 156ms/step - loss: 12056.4199\n"
     ]
    },
    {
     "data": {
      "text/plain": [
       "<keras.callbacks.History at 0x2fdaf7f10>"
      ]
     },
     "execution_count": 17,
     "metadata": {},
     "output_type": "execute_result"
    }
   ],
   "source": [
    "compile_autoencoder(autoencoder)\n",
    "autoencoder.fit(features_train, features_train, epochs = 20, batch_size = 32)"
   ]
  },
  {
   "cell_type": "code",
   "execution_count": 50,
   "metadata": {},
   "outputs": [
    {
     "data": {
      "text/plain": [
       "<BatchDataset element_spec=(TensorSpec(shape=(None, 255, 255, 3), dtype=tf.float32, name=None), TensorSpec(shape=(None, 2), dtype=tf.float32, name=None))>"
      ]
     },
     "execution_count": 50,
     "metadata": {},
     "output_type": "execute_result"
    }
   ],
   "source": [
    "train_dataset"
   ]
  },
  {
   "cell_type": "code",
   "execution_count": 20,
   "metadata": {},
   "outputs": [
    {
     "name": "stdout",
     "output_type": "stream",
     "text": [
      "1/1 [==============================] - 0s 63ms/step - loss: 0.0000e+00\n"
     ]
    }
   ],
   "source": [
    "results = autoencoder.evaluate(features_test)"
   ]
  },
  {
   "cell_type": "code",
   "execution_count": 21,
   "metadata": {},
   "outputs": [
    {
     "name": "stdout",
     "output_type": "stream",
     "text": [
      "1/1 [==============================] - 0s 95ms/step\n"
     ]
    },
    {
     "data": {
      "text/plain": [
       "array([[[[18.975428],\n",
       "         [19.383984],\n",
       "         [21.396473],\n",
       "         ...,\n",
       "         [19.684076],\n",
       "         [21.761713],\n",
       "         [20.34354 ]],\n",
       "\n",
       "        [[17.761015],\n",
       "         [16.287497],\n",
       "         [20.465052],\n",
       "         ...,\n",
       "         [16.53945 ],\n",
       "         [20.810043],\n",
       "         [18.728533]],\n",
       "\n",
       "        [[22.743826],\n",
       "         [21.60946 ],\n",
       "         [19.82526 ],\n",
       "         ...,\n",
       "         [21.939953],\n",
       "         [20.127625],\n",
       "         [19.50087 ]],\n",
       "\n",
       "        ...,\n",
       "\n",
       "        [[18.006205],\n",
       "         [16.512701],\n",
       "         [20.77543 ],\n",
       "         ...,\n",
       "         [16.568834],\n",
       "         [20.85105 ],\n",
       "         [18.765188]],\n",
       "\n",
       "        [[23.063255],\n",
       "         [21.906534],\n",
       "         [20.09634 ],\n",
       "         ...,\n",
       "         [21.980694],\n",
       "         [20.162855],\n",
       "         [19.536844]],\n",
       "\n",
       "        [[21.374943],\n",
       "         [19.401312],\n",
       "         [18.079401],\n",
       "         ...,\n",
       "         [19.472315],\n",
       "         [18.14051 ],\n",
       "         [16.93802 ]]],\n",
       "\n",
       "\n",
       "       [[[18.975428],\n",
       "         [19.383984],\n",
       "         [21.396473],\n",
       "         ...,\n",
       "         [19.684076],\n",
       "         [21.761713],\n",
       "         [20.34354 ]],\n",
       "\n",
       "        [[17.761015],\n",
       "         [16.287497],\n",
       "         [20.465052],\n",
       "         ...,\n",
       "         [16.53945 ],\n",
       "         [20.810043],\n",
       "         [18.728533]],\n",
       "\n",
       "        [[22.743826],\n",
       "         [21.60946 ],\n",
       "         [19.82526 ],\n",
       "         ...,\n",
       "         [21.939953],\n",
       "         [20.127625],\n",
       "         [19.50087 ]],\n",
       "\n",
       "        ...,\n",
       "\n",
       "        [[18.006205],\n",
       "         [16.512701],\n",
       "         [20.77543 ],\n",
       "         ...,\n",
       "         [16.568834],\n",
       "         [20.85105 ],\n",
       "         [18.765188]],\n",
       "\n",
       "        [[23.063255],\n",
       "         [21.906534],\n",
       "         [20.09634 ],\n",
       "         ...,\n",
       "         [21.980694],\n",
       "         [20.162855],\n",
       "         [19.536844]],\n",
       "\n",
       "        [[21.374943],\n",
       "         [19.401312],\n",
       "         [18.079401],\n",
       "         ...,\n",
       "         [19.472315],\n",
       "         [18.14051 ],\n",
       "         [16.93802 ]]]], dtype=float32)"
      ]
     },
     "execution_count": 21,
     "metadata": {},
     "output_type": "execute_result"
    }
   ],
   "source": [
    "autoencoder.predict(features_test)"
   ]
  },
  {
   "cell_type": "code",
   "execution_count": 63,
   "metadata": {},
   "outputs": [
    {
     "name": "stdout",
     "output_type": "stream",
     "text": [
      "1/1 [==============================] - 0s 15ms/step\n"
     ]
    },
    {
     "data": {
      "text/plain": [
       "array([[ 1., -1.]], dtype=float32)"
      ]
     },
     "execution_count": 63,
     "metadata": {},
     "output_type": "execute_result"
    }
   ],
   "source": [
    "# perro nada que ver\n",
    "perro_que_no_es = img_to_array(os.environ.get('DOGS_DATASET_TRAIN_PATH') + '/0/n02086240_533.jpg')\n",
    "perro_que_no_es_encoded = encoder.predict(perro_que_no_es)\n",
    "perro_que_no_es_encoded"
   ]
  },
  {
   "cell_type": "code",
   "execution_count": 32,
   "metadata": {},
   "outputs": [
    {
     "data": {
      "text/plain": [
       "'./Dataset/Dogs/Test/2/hihjyihjyihj.jpg'"
      ]
     },
     "execution_count": 32,
     "metadata": {},
     "output_type": "execute_result"
    }
   ],
   "source": [
    "os.environ.get('DOGS_DATASET_TEST_PATH') + '/2/hihjyihjyihj.jpg'"
   ]
  },
  {
   "cell_type": "code",
   "execution_count": 61,
   "metadata": {},
   "outputs": [
    {
     "name": "stdout",
     "output_type": "stream",
     "text": [
      "1/1 [==============================] - 0s 15ms/step\n"
     ]
    }
   ],
   "source": [
    "perro_que_es = img_to_array(os.environ.get('DOGS_DATASET_TEST_PATH') + '/2/dehduehdud.jpeg')\n",
    "perro_que_es = encoder.predict(perro_que_es)"
   ]
  },
  {
   "cell_type": "code",
   "execution_count": 71,
   "metadata": {},
   "outputs": [
    {
     "data": {
      "text/plain": [
       "array([[ 1., -1.]], dtype=float32)"
      ]
     },
     "execution_count": 71,
     "metadata": {},
     "output_type": "execute_result"
    }
   ],
   "source": [
    "perro_que_es"
   ]
  },
  {
   "cell_type": "code",
   "execution_count": 42,
   "metadata": {},
   "outputs": [],
   "source": [
    "from sklearn.metrics import mean_squared_error"
   ]
  },
  {
   "cell_type": "code",
   "execution_count": 54,
   "metadata": {},
   "outputs": [],
   "source": [
    "def custom_mse(y_true, y_pred):\n",
    "    # Ensure the vectors are of equal length\n",
    "    #assert len(y_true) == len(y_pred), \"Vectors of unequal length\"\n",
    "\n",
    "    # Calculate the squared differences\n",
    "    squared_diffs = [(true - pred) ** 2 for true, pred in zip(y_true, y_pred)]\n",
    "\n",
    "    # Return the mean of the squared differences\n",
    "    return sum(squared_diffs) / len(y_true)\n"
   ]
  },
  {
   "cell_type": "code",
   "execution_count": 55,
   "metadata": {},
   "outputs": [
    {
     "data": {
      "text/plain": [
       "1"
      ]
     },
     "execution_count": 55,
     "metadata": {},
     "output_type": "execute_result"
    }
   ],
   "source": [
    "len(perro_que_no_es)"
   ]
  },
  {
   "cell_type": "code",
   "execution_count": 56,
   "metadata": {},
   "outputs": [
    {
     "data": {
      "text/plain": [
       "1"
      ]
     },
     "execution_count": 56,
     "metadata": {},
     "output_type": "execute_result"
    }
   ],
   "source": [
    "len(perro_que_es)"
   ]
  },
  {
   "cell_type": "code",
   "execution_count": 57,
   "metadata": {},
   "outputs": [
    {
     "data": {
      "text/plain": [
       "array([[2.37366657e+01, 4.22700005e+01, 6.22166672e+01],\n",
       "       [1.43466663e+01, 3.01666660e+01, 4.50666656e+01],\n",
       "       [1.16266670e+01, 2.57666664e+01, 3.94666672e+01],\n",
       "       [1.23633337e+01, 2.74200001e+01, 3.93133316e+01],\n",
       "       [1.10166664e+01, 2.61233330e+01, 3.66133347e+01],\n",
       "       [6.65666676e+00, 1.91233330e+01, 2.73333340e+01],\n",
       "       [7.04333353e+00, 2.05366669e+01, 2.68833332e+01],\n",
       "       [9.25666714e+00, 2.47766666e+01, 2.98566666e+01],\n",
       "       [9.25666714e+00, 2.47766666e+01, 2.98566666e+01],\n",
       "       [8.17333317e+00, 2.36033325e+01, 2.86033325e+01],\n",
       "       [8.89666653e+00, 2.60566673e+01, 3.22166672e+01],\n",
       "       [6.85333347e+00, 2.24533329e+01, 2.81933327e+01],\n",
       "       [6.99333334e+00, 2.25933342e+01, 2.83333340e+01],\n",
       "       [9.18666649e+00, 2.65200005e+01, 3.22433319e+01],\n",
       "       [7.28666687e+00, 2.32333336e+01, 2.90666676e+01],\n",
       "       [1.32433329e+01, 3.31766663e+01, 3.95533333e+01],\n",
       "       [1.18199997e+01, 3.08866673e+01, 3.85666656e+01],\n",
       "       [6.83333349e+00, 2.24333324e+01, 2.81733341e+01],\n",
       "       [7.26000023e+00, 2.32066669e+01, 2.86033325e+01],\n",
       "       [1.55333338e+01, 3.25466652e+01, 4.28699989e+01],\n",
       "       [2.00033340e+01, 3.92166672e+01, 5.06266670e+01],\n",
       "       [2.33133335e+01, 4.38466682e+01, 5.59500008e+01],\n",
       "       [1.80566673e+01, 3.63899994e+01, 4.74666672e+01],\n",
       "       [9.88333321e+00, 2.48066673e+01, 3.40833321e+01],\n",
       "       [1.78799992e+01, 3.66166649e+01, 4.69633331e+01],\n",
       "       [3.10533333e+01, 5.39333344e+01, 6.70433350e+01],\n",
       "       [1.78833332e+01, 3.62166672e+01, 4.72066650e+01],\n",
       "       [1.29666662e+01, 2.91000004e+01, 3.90966682e+01],\n",
       "       [1.02466669e+01, 2.52966671e+01, 3.42166672e+01],\n",
       "       [7.70666647e+00, 2.09066658e+01, 2.99266663e+01],\n",
       "       [1.87500000e+01, 3.73766670e+01, 4.97333336e+01],\n",
       "       [1.90833340e+01, 3.74166679e+01, 4.90033340e+01],\n",
       "       [1.57766666e+01, 3.29366684e+01, 4.39366684e+01],\n",
       "       [1.03066664e+01, 2.49733334e+01, 3.47266655e+01],\n",
       "       [1.06733332e+01, 2.56333332e+01, 3.55333328e+01],\n",
       "       [8.74666691e+00, 2.25333328e+01, 3.18466663e+01],\n",
       "       [9.62666702e+00, 2.40000000e+01, 3.36066666e+01],\n",
       "       [1.14833336e+01, 2.68833332e+01, 3.70033340e+01],\n",
       "       [9.63333321e+00, 2.40066662e+01, 3.31366653e+01],\n",
       "       [9.89666653e+00, 2.44166660e+01, 3.45666656e+01],\n",
       "       [1.38033333e+01, 3.03766670e+01, 4.10966682e+01],\n",
       "       [2.10133343e+01, 4.06666679e+01, 5.35366669e+01],\n",
       "       [2.49133339e+01, 4.60333328e+01, 5.96699982e+01],\n",
       "       [2.90666676e+01, 5.16533318e+01, 6.66933365e+01],\n",
       "       [2.60433331e+01, 4.76033325e+01, 6.14466667e+01],\n",
       "       [2.18266659e+01, 4.17733345e+01, 5.48033333e+01],\n",
       "       [1.52433329e+01, 3.24033318e+01, 4.34833336e+01],\n",
       "       [8.17333317e+00, 2.16666660e+01, 3.12966671e+01],\n",
       "       [9.29333305e+00, 2.37366657e+01, 3.23366661e+01],\n",
       "       [1.09066668e+01, 2.67000008e+01, 3.38466682e+01],\n",
       "       [1.06933336e+01, 2.81933327e+01, 3.17666664e+01],\n",
       "       [1.04166670e+01, 2.81933327e+01, 2.90466671e+01],\n",
       "       [1.15233335e+01, 3.08866673e+01, 2.86433334e+01],\n",
       "       [1.47533331e+01, 3.60299988e+01, 3.46199989e+01],\n",
       "       [1.06033335e+01, 2.79366665e+01, 2.96833324e+01],\n",
       "       [1.04833336e+01, 2.69633331e+01, 3.22833328e+01],\n",
       "       [8.89666653e+00, 2.36166668e+01, 3.12966671e+01],\n",
       "       [1.36666667e+00, 7.97666645e+00, 1.73666668e+01],\n",
       "       [1.13333333e+00, 6.63000011e+00, 2.01666660e+01],\n",
       "       [1.85666668e+00, 7.73333311e+00, 2.28966675e+01],\n",
       "       [1.60333335e+00, 7.50000000e+00, 2.03333340e+01],\n",
       "       [8.52333355e+00, 1.94166660e+01, 3.64866676e+01],\n",
       "       [1.54200001e+01, 3.08866673e+01, 4.99233322e+01],\n",
       "       [1.88933334e+01, 3.56933327e+01, 5.48033333e+01],\n",
       "       [2.40833340e+01, 4.30933342e+01, 6.19799995e+01],\n",
       "       [2.46833324e+01, 4.45633316e+01, 6.23633347e+01],\n",
       "       [2.81100006e+01, 4.97333336e+01, 6.70933304e+01],\n",
       "       [3.17666664e+01, 4.98966675e+01, 7.28433304e+01],\n",
       "       [2.16666660e+01, 3.70033340e+01, 5.76666679e+01],\n",
       "       [1.98033333e+01, 3.40833321e+01, 5.46033325e+01],\n",
       "       [2.56333332e+01, 4.16133347e+01, 6.33766670e+01],\n",
       "       [2.68833332e+01, 4.26666679e+01, 6.60033340e+01],\n",
       "       [2.20433331e+01, 3.70033340e+01, 5.76599998e+01],\n",
       "       [2.32966671e+01, 3.89333344e+01, 6.00166664e+01],\n",
       "       [1.90833340e+01, 3.31500015e+01, 5.34033318e+01],\n",
       "       [2.38033333e+01, 3.92166672e+01, 6.10033340e+01],\n",
       "       [4.64666672e+01, 6.85466690e+01, 9.33666687e+01],\n",
       "       [4.60933342e+01, 7.22733307e+01, 9.45733337e+01],\n",
       "       [2.56333332e+01, 4.59333344e+01, 6.40333328e+01],\n",
       "       [1.50433331e+01, 3.12833328e+01, 4.64833336e+01],\n",
       "       [1.76966667e+01, 3.50566673e+01, 5.10566673e+01],\n",
       "       [1.76833324e+01, 3.50433350e+01, 5.10433350e+01],\n",
       "       [1.73666668e+01, 3.45866661e+01, 5.04866676e+01],\n",
       "       [1.72833328e+01, 3.43633347e+01, 5.01633339e+01],\n",
       "       [1.77233334e+01, 3.50833321e+01, 5.10833321e+01],\n",
       "       [1.85100002e+01, 3.61500015e+01, 5.23499985e+01],\n",
       "       [2.28166676e+01, 4.16066666e+01, 5.95366669e+01],\n",
       "       [2.16666660e+01, 4.00433350e+01, 5.76666679e+01],\n",
       "       [2.05366669e+01, 3.90166664e+01, 5.58166656e+01],\n",
       "       [1.44566669e+01, 2.99866657e+01, 4.54166679e+01],\n",
       "       [1.23533335e+01, 2.73333340e+01, 4.16333351e+01],\n",
       "       [1.83899994e+01, 3.55333328e+01, 5.22299995e+01],\n",
       "       [1.26566668e+01, 2.81933327e+01, 4.21766663e+01],\n",
       "       [1.32433329e+01, 2.86433334e+01, 4.32433319e+01],\n",
       "       [1.33333330e+01, 2.85933342e+01, 4.30933342e+01],\n",
       "       [1.80333328e+01, 3.55333328e+01, 5.16333351e+01],\n",
       "       [2.44433327e+01, 4.32433319e+01, 6.34166679e+01],\n",
       "       [2.92800007e+01, 4.95466652e+01, 7.02433319e+01],\n",
       "       [2.16866665e+01, 3.95533333e+01, 5.76866684e+01],\n",
       "       [1.39266663e+01, 2.99633331e+01, 4.36833344e+01],\n",
       "       [1.20000000e+01, 2.75466671e+01, 3.87466660e+01],\n",
       "       [1.34033337e+01, 2.96833324e+01, 4.02433319e+01],\n",
       "       [1.39366665e+01, 3.19066658e+01, 3.96933327e+01],\n",
       "       [1.24166670e+01, 2.93666668e+01, 3.54166679e+01],\n",
       "       [1.23233337e+01, 2.97633343e+01, 3.53233337e+01],\n",
       "       [1.70833340e+01, 3.51233330e+01, 4.54566650e+01],\n",
       "       [2.99333324e+01, 5.04666672e+01, 7.21133347e+01],\n",
       "       [2.86433334e+01, 4.87766685e+01, 7.07866669e+01],\n",
       "       [2.40066662e+01, 4.26733322e+01, 6.27333336e+01],\n",
       "       [2.52566662e+01, 4.43233337e+01, 6.54000015e+01],\n",
       "       [2.28566666e+01, 4.11233330e+01, 6.14666672e+01],\n",
       "       [2.82733326e+01, 4.82733345e+01, 6.94666672e+01],\n",
       "       [2.68833332e+01, 4.64833336e+01, 6.73366699e+01],\n",
       "       [3.53233337e+01, 5.73233337e+01, 8.02166672e+01],\n",
       "       [3.70466652e+01, 5.94466667e+01, 8.26800003e+01],\n",
       "       [2.62166672e+01, 4.65333328e+01, 6.38966675e+01],\n",
       "       [2.32666664e+01, 4.27266655e+01, 6.02266655e+01],\n",
       "       [2.86166668e+01, 4.98966675e+01, 6.86966629e+01],\n",
       "       [2.04933338e+01, 3.88333321e+01, 5.55333328e+01],\n",
       "       [2.57333336e+01, 4.60333328e+01, 6.41333313e+01],\n",
       "       [3.30933342e+01, 5.56333351e+01, 7.53333359e+01],\n",
       "       [3.40333328e+01, 5.68533325e+01, 7.67533340e+01],\n",
       "       [1.95466671e+01, 3.76066666e+01, 5.41066666e+01],\n",
       "       [2.20433331e+01, 4.10833321e+01, 5.82833328e+01],\n",
       "       [3.00333328e+01, 5.17333336e+01, 7.08333359e+01],\n",
       "       [2.42166672e+01, 4.24833336e+01, 6.14733315e+01],\n",
       "       [2.16000004e+01, 4.10566673e+01, 5.90833321e+01],\n",
       "       [1.46166668e+01, 3.24033318e+01, 4.78033333e+01],\n",
       "       [1.26533337e+01, 3.06566658e+01, 4.13633347e+01],\n",
       "       [1.43466663e+01, 3.09933338e+01, 3.86733322e+01],\n",
       "       [2.02266674e+01, 3.60966682e+01, 4.11633339e+01],\n",
       "       [4.26666677e-01, 2.66666675e+00, 4.00333357e+00],\n",
       "       [2.81666660e+00, 4.34999990e+00, 5.63333321e+00],\n",
       "       [2.05666661e+00, 2.54999995e+00, 2.81666660e+00],\n",
       "       [5.63333321e+00, 6.00666666e+00, 8.17333317e+00],\n",
       "       [2.16666675e+00, 3.09666657e+00, 5.81666660e+00],\n",
       "       [1.44333339e+00, 3.09666657e+00, 6.63000011e+00],\n",
       "       [3.17666674e+00, 6.83333349e+00, 1.33333330e+01],\n",
       "       [3.12833328e+01, 4.81666679e+01, 6.73366699e+01],\n",
       "       [3.76066666e+01, 5.77666664e+01, 8.07733307e+01],\n",
       "       [2.18266659e+01, 4.17733345e+01, 5.90733337e+01],\n",
       "       [3.22833328e+01, 5.77200012e+01, 7.63866653e+01],\n",
       "       [2.24866657e+01, 4.48866653e+01, 5.89666672e+01],\n",
       "       [2.36433334e+01, 4.43233337e+01, 5.76866684e+01],\n",
       "       [1.91533337e+01, 3.69333344e+01, 5.37766685e+01],\n",
       "       [2.41066666e+01, 4.27733345e+01, 6.34566650e+01],\n",
       "       [1.69933338e+01, 3.29933319e+01, 5.07866669e+01],\n",
       "       [1.83899994e+01, 3.50566673e+01, 5.28133316e+01],\n",
       "       [3.52266655e+01, 5.70933342e+01, 7.98733368e+01],\n",
       "       [4.10833321e+01, 6.46833344e+01, 8.81666641e+01],\n",
       "       [3.52433319e+01, 5.72433319e+01, 8.01366653e+01],\n",
       "       [2.65866661e+01, 4.57866669e+01, 6.63000031e+01],\n",
       "       [2.12700005e+01, 3.87366676e+01, 5.77766685e+01],\n",
       "       [1.70933342e+01, 3.30933342e+01, 5.02566681e+01],\n",
       "       [1.66733341e+01, 3.36133347e+01, 4.93133316e+01],\n",
       "       [1.39366665e+01, 2.96166668e+01, 4.44166679e+01],\n",
       "       [1.70833340e+01, 3.41633339e+01, 4.99633331e+01],\n",
       "       [1.88333340e+01, 3.66133347e+01, 5.29133339e+01],\n",
       "       [2.09333324e+01, 3.95533333e+01, 5.64533348e+01],\n",
       "       [2.44266663e+01, 4.41666679e+01, 6.18666649e+01],\n",
       "       [2.14833336e+01, 4.02433319e+01, 5.72433319e+01],\n",
       "       [1.13100004e+01, 2.55900002e+01, 3.93899994e+01],\n",
       "       [1.95333328e+01, 3.73133316e+01, 5.42833328e+01],\n",
       "       [2.34166660e+01, 4.82033348e+01, 6.52833328e+01],\n",
       "       [2.50466671e+01, 5.13233337e+01, 6.89633331e+01],\n",
       "       [3.27533340e+01, 6.08333321e+01, 7.96866684e+01],\n",
       "       [3.74666672e+01, 6.76266632e+01, 8.75999985e+01],\n",
       "       [4.11233330e+01, 6.87233353e+01, 9.05233307e+01],\n",
       "       [5.22966652e+01, 8.00166702e+01, 1.03416664e+02],\n",
       "       [4.02433319e+01, 6.22833328e+01, 8.30833359e+01],\n",
       "       [4.54566650e+01, 6.67733307e+01, 8.90166702e+01],\n",
       "       [4.81733322e+01, 6.86833344e+01, 9.20433350e+01],\n",
       "       [4.88166656e+01, 6.87633362e+01, 9.21233368e+01],\n",
       "       [3.06566658e+01, 5.01633339e+01, 6.89633331e+01],\n",
       "       [3.19066658e+01, 5.12433319e+01, 7.08933334e+01],\n",
       "       [3.65666656e+01, 5.89666672e+01, 7.78199997e+01],\n",
       "       [3.59533348e+01, 5.61899986e+01, 7.67533340e+01],\n",
       "       [2.46833324e+01, 4.24166679e+01, 5.98166656e+01],\n",
       "       [2.69633331e+01, 4.59866676e+01, 6.34566650e+01],\n",
       "       [2.65233326e+01, 4.47633324e+01, 6.25633316e+01],\n",
       "       [2.81133327e+01, 4.67333336e+01, 6.48333359e+01],\n",
       "       [2.74200001e+01, 4.57866669e+01, 6.36866684e+01],\n",
       "       [1.80333328e+01, 3.55333328e+01, 4.87366676e+01],\n",
       "       [1.98166676e+01, 3.87366676e+01, 5.11266670e+01],\n",
       "       [2.16566658e+01, 4.14566650e+01, 5.37766685e+01],\n",
       "       [1.39366665e+01, 3.05100002e+01, 4.17733345e+01],\n",
       "       [9.36666679e+00, 2.34466667e+01, 3.29066658e+01],\n",
       "       [9.76666641e+00, 2.35533333e+01, 3.28666649e+01],\n",
       "       [1.25666666e+01, 2.84066658e+01, 3.88333321e+01],\n",
       "       [1.94966660e+01, 3.78300018e+01, 4.94166679e+01],\n",
       "       [2.05933342e+01, 3.99533348e+01, 5.20533333e+01],\n",
       "       [1.50433331e+01, 3.22033348e+01, 4.37400017e+01],\n",
       "       [1.48333330e+01, 3.13633327e+01, 4.60333328e+01],\n",
       "       [2.16866665e+01, 4.05866661e+01, 5.76866684e+01],\n",
       "       [2.70833340e+01, 4.80000000e+01, 6.57233353e+01],\n",
       "       [2.09333324e+01, 3.95533333e+01, 5.64533348e+01],\n",
       "       [2.81933327e+01, 4.93333321e+01, 6.80333328e+01],\n",
       "       [2.10133343e+01, 3.96333351e+01, 5.65333328e+01],\n",
       "       [1.78799992e+01, 3.50999985e+01, 5.10000000e+01],\n",
       "       [2.20566673e+01, 4.10966682e+01, 5.82966652e+01],\n",
       "       [1.31466665e+01, 2.84066658e+01, 4.29066658e+01],\n",
       "       [1.94666672e+01, 3.65333328e+01, 5.40266685e+01],\n",
       "       [2.60433331e+01, 4.26733322e+01, 6.46833344e+01],\n",
       "       [1.76033325e+01, 3.18833332e+01, 4.93366661e+01],\n",
       "       [1.56433334e+01, 2.92033329e+01, 4.64666672e+01],\n",
       "       [1.73466663e+01, 3.22166672e+01, 4.81733322e+01],\n",
       "       [1.17666664e+01, 2.48133335e+01, 3.85133324e+01],\n",
       "       [1.21233330e+01, 2.52966671e+01, 3.80833321e+01],\n",
       "       [2.42033329e+01, 4.22733345e+01, 5.64166679e+01],\n",
       "       [2.86833324e+01, 4.76833344e+01, 6.34566650e+01],\n",
       "       [2.73133335e+01, 4.70466652e+01, 6.01733322e+01],\n",
       "       [3.08533325e+01, 4.70666656e+01, 6.66933365e+01],\n",
       "       [3.31766663e+01, 4.99233322e+01, 7.00833359e+01],\n",
       "       [3.87466660e+01, 5.66666679e+01, 7.80000000e+01],\n",
       "       [4.54566650e+01, 6.47633362e+01, 8.74833298e+01],\n",
       "       [4.11233330e+01, 5.95766678e+01, 8.14433365e+01],\n",
       "       [4.37400017e+01, 6.27266655e+01, 8.51266632e+01],\n",
       "       [4.72799988e+01, 6.69066696e+01, 8.99466629e+01],\n",
       "       [4.59866676e+01, 6.54000015e+01, 8.82266693e+01],\n",
       "       [4.49333344e+01, 6.41333313e+01, 8.67466660e+01],\n",
       "       [2.61766663e+01, 4.12166672e+01, 5.96699982e+01],\n",
       "       [2.56266670e+01, 4.37400017e+01, 6.14399986e+01],\n",
       "       [2.09666672e+01, 3.75600014e+01, 5.16866684e+01],\n",
       "       [3.28333321e+01, 5.17933350e+01, 6.61366653e+01],\n",
       "       [2.70166664e+01, 4.33366661e+01, 5.47366676e+01],\n",
       "       [2.82166672e+01, 4.36833344e+01, 5.33466682e+01],\n",
       "       [3.09666657e+00, 8.19333363e+00, 1.23533335e+01],\n",
       "       [4.96666670e-01, 2.81666660e+00, 4.69666672e+00],\n",
       "       [7.32000017e+00, 1.29666662e+01, 1.54200001e+01],\n",
       "       [1.24933329e+01, 1.92833328e+01, 2.22433338e+01],\n",
       "       [1.84566669e+01, 2.13633327e+01, 2.40599995e+01],\n",
       "       [8.64666653e+00, 9.13333321e+00, 1.01466665e+01],\n",
       "       [3.46666664e-01, 9.13333356e-01, 1.41333330e+00],\n",
       "       [6.93333328e-01, 2.43333340e+00, 3.69666672e+00],\n",
       "       [8.33333358e-02, 1.50666666e+00, 3.39000010e+00],\n",
       "       [3.00333333e+00, 9.08333302e+00, 1.58833332e+01],\n",
       "       [1.60833340e+01, 3.05233326e+01, 4.21233330e+01],\n",
       "       [1.86033325e+01, 3.38033333e+01, 4.80833321e+01],\n",
       "       [2.63233337e+01, 4.34833336e+01, 6.36566658e+01],\n",
       "       [4.21500015e+01, 6.46966629e+01, 8.66666641e+01],\n",
       "       [3.27266655e+01, 5.28666649e+01, 7.07866669e+01],\n",
       "       [2.41666660e+01, 4.17733345e+01, 5.65933342e+01],\n",
       "       [1.64866657e+01, 3.10533333e+01, 4.37933350e+01],\n",
       "       [1.68166676e+01, 3.17633343e+01, 4.47633324e+01],\n",
       "       [2.01233330e+01, 3.60833321e+01, 4.97766685e+01],\n",
       "       [1.40400000e+01, 2.78466663e+01, 4.00666656e+01],\n",
       "       [1.18199997e+01, 2.48666668e+01, 3.65666656e+01],\n",
       "       [1.35000000e+01, 2.73066673e+01, 3.95266685e+01],\n",
       "       [1.18199997e+01, 2.48666668e+01, 3.65666656e+01],\n",
       "       [1.00166664e+01, 2.29500008e+01, 3.42166672e+01],\n",
       "       [1.65366669e+01, 3.42833328e+01, 4.66833344e+01],\n",
       "       [2.08166676e+01, 4.03233337e+01, 5.36833344e+01],\n",
       "       [1.35600004e+01, 2.99866657e+01, 4.16666679e+01],\n",
       "       [1.44566669e+01, 3.13233337e+01, 4.32433319e+01],\n",
       "       [2.20833340e+01, 4.21766663e+01, 5.58566666e+01],\n",
       "       [2.56333332e+01, 4.70466652e+01, 6.14466667e+01],\n",
       "       [2.40599995e+01, 4.48866653e+01, 5.89666672e+01],\n",
       "       [1.67266674e+01, 3.46199989e+01, 4.70999985e+01],\n",
       "       [2.44266663e+01, 4.52533340e+01, 5.93333321e+01],\n",
       "       [2.66433334e+01, 4.53666649e+01, 6.01366653e+01],\n",
       "       [2.07366657e+01, 3.72033348e+01, 5.12433319e+01],\n",
       "       [1.88933334e+01, 3.51766663e+01, 4.83333321e+01],\n",
       "       [2.24166660e+01, 3.93899994e+01, 5.37766685e+01],\n",
       "       [1.70033340e+01, 3.17399998e+01, 4.53766670e+01],\n",
       "       [2.30166664e+01, 4.02433319e+01, 5.48033333e+01],\n",
       "       [2.64166660e+01, 4.46566658e+01, 5.99099998e+01],\n",
       "       [2.45366669e+01, 4.22700005e+01, 5.71766663e+01],\n",
       "       [2.09333324e+01, 3.70166664e+01, 5.16533318e+01],\n",
       "       [7.04333353e+00, 1.83766670e+01, 2.68833332e+01],\n",
       "       [5.63333321e+00, 1.80533333e+01, 2.48333340e+01],\n",
       "       [6.57333326e+00, 1.96066666e+01, 2.57933331e+01],\n",
       "       [1.17633333e+01, 2.80166664e+01, 3.53233337e+01],\n",
       "       [1.04833336e+01, 2.61233330e+01, 3.32166672e+01],\n",
       "       [9.65333366e+00, 2.48333340e+01, 3.17666664e+01],\n",
       "       [9.39000034e+00, 2.48333340e+01, 3.17666664e+01],\n",
       "       [1.32833338e+01, 3.04566669e+01, 3.80833321e+01],\n",
       "       [1.14833336e+01, 2.77366657e+01, 3.50433350e+01],\n",
       "       [1.20000000e+01, 2.79366665e+01, 3.52433319e+01],\n",
       "       [1.33366671e+01, 2.92066669e+01, 3.66733322e+01],\n",
       "       [1.04833336e+01, 2.44833336e+01, 3.13633327e+01],\n",
       "       [7.56333351e+00, 2.02266674e+01, 2.65200005e+01],\n",
       "       [7.05666685e+00, 1.83899994e+01, 2.44166660e+01],\n",
       "       [8.41666698e+00, 2.12966671e+01, 2.77500000e+01],\n",
       "       [1.00166664e+01, 2.37366657e+01, 3.05100002e+01],\n",
       "       [7.04333353e+00, 1.90833340e+01, 2.52166672e+01],\n",
       "       [9.15333366e+00, 2.24533329e+01, 2.90666676e+01],\n",
       "       [1.09766665e+01, 2.56866665e+01, 3.27266655e+01],\n",
       "       [1.47533331e+01, 3.17666664e+01, 4.16333351e+01],\n",
       "       [9.25666714e+00, 2.81100006e+01, 3.83766670e+01],\n",
       "       [7.61666679e+00, 2.45366669e+01, 3.37133331e+01],\n",
       "       [1.89666672e+01, 3.57666664e+01, 4.29066658e+01],\n",
       "       [2.28299999e+01, 3.70166664e+01, 3.95533333e+01],\n",
       "       [1.62666667e+00, 3.68333340e+00, 3.90000010e+00],\n",
       "       [1.83000004e+00, 3.53333330e+00, 3.68333340e+00],\n",
       "       [1.55999994e+00, 2.88333344e+00, 3.58666658e+00],\n",
       "       [3.90000010e+00, 4.72333336e+00, 7.97666645e+00],\n",
       "       [1.13333333e+00, 2.05666661e+00, 4.53333330e+00],\n",
       "       [3.08333325e+00, 7.70666647e+00, 1.35000000e+01],\n",
       "       [1.94566669e+01, 4.07999992e+01, 5.66666679e+01],\n",
       "       [1.51233330e+01, 3.32166672e+01, 4.77366676e+01]], dtype=float32)"
      ]
     },
     "execution_count": 57,
     "metadata": {},
     "output_type": "execute_result"
    }
   ],
   "source": [
    "mse = mse = custom_mse(perro_que_no_es[0], perro_que_es[0])\n",
    "mse"
   ]
  },
  {
   "cell_type": "code",
   "execution_count": 68,
   "metadata": {},
   "outputs": [],
   "source": [
    "def mean_squared_error(matrix1, matrix2):\n",
    "    print(matrix1)\n",
    "    if matrix1.shape != matrix2.shape:\n",
    "        raise ValueError(\"Matrices must have the same shape\")\n",
    "\n",
    "    error = np.mean(np.square(matrix1 - matrix2))\n",
    "    return error"
   ]
  },
  {
   "cell_type": "code",
   "execution_count": 69,
   "metadata": {},
   "outputs": [
    {
     "name": "stdout",
     "output_type": "stream",
     "text": [
      "[[[[ 56.  76.  93.]\n",
      "   [ 41.  62.  77.]\n",
      "   [ 29.  50.  65.]\n",
      "   ...\n",
      "   [ 22.  35.  46.]\n",
      "   [ 47.  73.  87.]\n",
      "   [ 52.  75.  90.]]\n",
      "\n",
      "  [[ 63.  83. 100.]\n",
      "   [ 51.  72.  87.]\n",
      "   [ 51.  72.  87.]\n",
      "   ...\n",
      "   [ 21.  33.  44.]\n",
      "   [ 60.  83.  97.]\n",
      "   [ 43.  66.  79.]]\n",
      "\n",
      "  [[ 46.  67.  82.]\n",
      "   [ 59.  80.  95.]\n",
      "   [ 55.  77.  89.]\n",
      "   ...\n",
      "   [ 17.  28.  39.]\n",
      "   [ 65.  87.  99.]\n",
      "   [ 51.  72.  85.]]\n",
      "\n",
      "  ...\n",
      "\n",
      "  [[ 90. 115. 157.]\n",
      "   [ 91. 116. 158.]\n",
      "   [100. 129. 170.]\n",
      "   ...\n",
      "   [ 88. 146. 207.]\n",
      "   [ 97. 158. 218.]\n",
      "   [100. 161. 221.]]\n",
      "\n",
      "  [[ 92. 117. 159.]\n",
      "   [ 93. 118. 160.]\n",
      "   [100. 129. 170.]\n",
      "   ...\n",
      "   [ 92. 149. 212.]\n",
      "   [ 96. 158. 218.]\n",
      "   [ 97. 159. 219.]]\n",
      "\n",
      "  [[ 95. 120. 162.]\n",
      "   [ 94. 119. 161.]\n",
      "   [ 99. 129. 170.]\n",
      "   ...\n",
      "   [ 93. 151. 215.]\n",
      "   [ 96. 157. 219.]\n",
      "   [ 96. 157. 219.]]]]\n"
     ]
    },
    {
     "ename": "ValueError",
     "evalue": "Matrices must have the same shape",
     "output_type": "error",
     "traceback": [
      "\u001b[0;31m---------------------------------------------------------------------------\u001b[0m",
      "\u001b[0;31mValueError\u001b[0m                                Traceback (most recent call last)",
      "Cell \u001b[0;32mIn [69], line 1\u001b[0m\n\u001b[0;32m----> 1\u001b[0m \u001b[43mmean_squared_error\u001b[49m\u001b[43m(\u001b[49m\u001b[43mperro_que_no_es\u001b[49m\u001b[43m,\u001b[49m\u001b[43m \u001b[49m\u001b[43mperro_que_es\u001b[49m\u001b[43m)\u001b[49m\n",
      "Cell \u001b[0;32mIn [68], line 4\u001b[0m, in \u001b[0;36mmean_squared_error\u001b[0;34m(matrix1, matrix2)\u001b[0m\n\u001b[1;32m      2\u001b[0m \u001b[38;5;28mprint\u001b[39m(matrix1)\n\u001b[1;32m      3\u001b[0m \u001b[38;5;28;01mif\u001b[39;00m matrix1\u001b[38;5;241m.\u001b[39mshape \u001b[38;5;241m!=\u001b[39m matrix2\u001b[38;5;241m.\u001b[39mshape:\n\u001b[0;32m----> 4\u001b[0m     \u001b[38;5;28;01mraise\u001b[39;00m \u001b[38;5;167;01mValueError\u001b[39;00m(\u001b[38;5;124m\"\u001b[39m\u001b[38;5;124mMatrices must have the same shape\u001b[39m\u001b[38;5;124m\"\u001b[39m)\n\u001b[1;32m      6\u001b[0m error \u001b[38;5;241m=\u001b[39m np\u001b[38;5;241m.\u001b[39mmean(np\u001b[38;5;241m.\u001b[39msquare(matrix1 \u001b[38;5;241m-\u001b[39m matrix2))\n\u001b[1;32m      7\u001b[0m \u001b[38;5;28;01mreturn\u001b[39;00m error\n",
      "\u001b[0;31mValueError\u001b[0m: Matrices must have the same shape"
     ]
    }
   ],
   "source": [
    "mean_squared_error(perro_que_no_es, perro_que_es)"
   ]
  },
  {
   "cell_type": "code",
   "execution_count": 64,
   "metadata": {},
   "outputs": [
    {
     "data": {
      "text/plain": [
       "(1, 2)"
      ]
     },
     "execution_count": 64,
     "metadata": {},
     "output_type": "execute_result"
    }
   ],
   "source": [
    "perro_que_no_es_encoded.shape"
   ]
  },
  {
   "cell_type": "code",
   "execution_count": 66,
   "metadata": {},
   "outputs": [
    {
     "data": {
      "text/plain": [
       "(1, 2)"
      ]
     },
     "execution_count": 66,
     "metadata": {},
     "output_type": "execute_result"
    }
   ],
   "source": [
    "perro_que_es.shape"
   ]
  },
  {
   "cell_type": "code",
   "execution_count": 67,
   "metadata": {},
   "outputs": [
    {
     "data": {
      "text/plain": [
       "True"
      ]
     },
     "execution_count": 67,
     "metadata": {},
     "output_type": "execute_result"
    }
   ],
   "source": [
    "perro_que_no_es_encoded.shape == perro_que_es.shape"
   ]
  },
  {
   "cell_type": "code",
   "execution_count": 1,
   "metadata": {},
   "outputs": [],
   "source": [
    "from utils_gaspar import *"
   ]
  },
  {
   "cell_type": "code",
   "execution_count": 6,
   "metadata": {},
   "outputs": [
    {
     "name": "stdout",
     "output_type": "stream",
     "text": [
      "None\n"
     ]
    }
   ],
   "source": [
    "print(get_lon_lat())"
   ]
  },
  {
   "cell_type": "code",
   "execution_count": 8,
   "metadata": {},
   "outputs": [
    {
     "name": "stdout",
     "output_type": "stream",
     "text": [
      "None\n"
     ]
    },
    {
     "ename": "NameError",
     "evalue": "name 'location' is not defined",
     "output_type": "error",
     "traceback": [
      "\u001b[0;31m---------------------------------------------------------------------------\u001b[0m",
      "\u001b[0;31mNameError\u001b[0m                                 Traceback (most recent call last)",
      "Cell \u001b[0;32mIn[8], line 11\u001b[0m\n\u001b[1;32m      8\u001b[0m     latitude, longitude \u001b[38;5;241m=\u001b[39m loc[\u001b[38;5;124m'\u001b[39m\u001b[38;5;124mcoords\u001b[39m\u001b[38;5;124m'\u001b[39m][\u001b[38;5;124m'\u001b[39m\u001b[38;5;124mlatitude\u001b[39m\u001b[38;5;124m'\u001b[39m], loc[\u001b[38;5;124m'\u001b[39m\u001b[38;5;124mcoords\u001b[39m\u001b[38;5;124m'\u001b[39m][\u001b[38;5;124m'\u001b[39m\u001b[38;5;124mlongitude\u001b[39m\u001b[38;5;124m'\u001b[39m]\n\u001b[1;32m      9\u001b[0m     location \u001b[38;5;241m=\u001b[39m requests\u001b[38;5;241m.\u001b[39mget(\n\u001b[1;32m     10\u001b[0m         \u001b[38;5;124mf\u001b[39m\u001b[38;5;124m'\u001b[39m\u001b[38;5;124mhttps://nominatim.openstreetmap.org/reverse?format=jsonv2&lat=\u001b[39m\u001b[38;5;132;01m{\u001b[39;00mlatitude\u001b[38;5;132;01m}\u001b[39;00m\u001b[38;5;124m&lon=\u001b[39m\u001b[38;5;132;01m{\u001b[39;00mlongitude\u001b[38;5;132;01m}\u001b[39;00m\u001b[38;5;124m'\u001b[39m)\u001b[38;5;241m.\u001b[39mjson()\n\u001b[0;32m---> 11\u001b[0m \u001b[38;5;28mprint\u001b[39m(\u001b[43mlocation\u001b[49m[\u001b[38;5;124m'\u001b[39m\u001b[38;5;124maddress\u001b[39m\u001b[38;5;124m'\u001b[39m])\n",
      "\u001b[0;31mNameError\u001b[0m: name 'location' is not defined"
     ]
    }
   ],
   "source": [
    "from streamlit_geolocation import streamlit_geolocation\n",
    "from streamlit_js_eval import streamlit_js_eval, copy_to_clipboard, create_share_link, get_geolocation\n",
    "import requests\n",
    "\n",
    "loc = get_geolocation()\n",
    "print(loc)\n",
    "if loc and 'coords' in loc:\n",
    "    latitude, longitude = loc['coords']['latitude'], loc['coords']['longitude']\n",
    "    location = requests.get(\n",
    "        f'https://nominatim.openstreetmap.org/reverse?format=jsonv2&lat={latitude}&lon={longitude}').json()\n",
    "print(location['address'])"
   ]
  },
  {
   "cell_type": "code",
   "execution_count": null,
   "metadata": {},
   "outputs": [],
   "source": []
  }
 ],
 "metadata": {
  "kernelspec": {
   "display_name": "dog_buster",
   "language": "python",
   "name": "python3"
  },
  "language_info": {
   "codemirror_mode": {
    "name": "ipython",
    "version": 3
   },
   "file_extension": ".py",
   "mimetype": "text/x-python",
   "name": "python",
   "nbconvert_exporter": "python",
   "pygments_lexer": "ipython3",
   "version": "3.10.6"
  }
 },
 "nbformat": 4,
 "nbformat_minor": 2
}
