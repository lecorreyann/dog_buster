{
 "cells": [
  {
   "cell_type": "code",
   "execution_count": 1,
   "metadata": {},
   "outputs": [],
   "source": [
    "from PIL import Image\n",
    "import os\n",
    "import tensorflow as tf\n",
    "from tensorflow.keras.utils import image_dataset_from_directory\n",
    "import matplotlib.pyplot as plt\n",
    "import numpy as np\n",
    "from tensorflow.keras.callbacks import EarlyStopping\n",
    "from tensorflow.keras.preprocessing.image import img_to_array\n",
    "from tensorflow.keras.preprocessing.image import ImageDataGenerator\n",
    "from dotenv import load_dotenv"
   ]
  },
  {
   "cell_type": "code",
   "execution_count": 2,
   "metadata": {},
   "outputs": [],
   "source": [
    "mopdel_1 = True\n",
    "def model_2_init():\n",
    "    input_shape=(255,255,3)\n",
    "    model = tf.keras.models.Sequential()\n",
    "    model.add(tf.keras.layers.Conv2D(32,kernel_size=(5,5),input_shape=input_shape,padding='same',activation='relu'))\n",
    "    model.add(tf.keras.layers.Conv2D(64,kernel_size=(5,5),padding='same',activation='relu'))\n",
    "    model.add(tf.keras.layers.MaxPool2D(pool_size=(4,4)))\n",
    "    model.add(tf.keras.layers.Conv2D(128,kernel_size=(4,4),padding='same',activation='relu'))\n",
    "    model.add(tf.keras.layers.Conv2D(160,kernel_size=(4,4),padding='same',activation='relu'))\n",
    "    model.add(tf.keras.layers.MaxPool2D(pool_size=(3,3)))\n",
    "    model.add(tf.keras.layers.Conv2D(256,kernel_size=(3,3),padding='same',activation='relu'))\n",
    "    model.add(tf.keras.layers.Flatten())\n",
    "\n",
    "    model.add(tf.keras.layers.Dense(64,activation='relu'))\n",
    "    model.add(tf.keras.layers.Dropout(0.3))\n",
    "    model.add(tf.keras.layers.Dense(30,activation='relu'))\n",
    "    model.add(tf.keras.layers.Dropout(0.3))\n",
    "    model.add(tf.keras.layers.Dense(2,activation='softmax'))\n",
    "\n",
    "    model.compile(optimizer='adam',loss='categorical_crossentropy',metrics=[tf.keras.metrics.Recall()])\n",
    "    return model\n"
   ]
  },
  {
   "cell_type": "code",
   "execution_count": 3,
   "metadata": {},
   "outputs": [],
   "source": [
    "model = model_2_init()"
   ]
  },
  {
   "cell_type": "code",
   "execution_count": 4,
   "metadata": {},
   "outputs": [
    {
     "name": "stdout",
     "output_type": "stream",
     "text": [
      "Model: \"sequential\"\n",
      "_________________________________________________________________\n",
      " Layer (type)                Output Shape              Param #   \n",
      "=================================================================\n",
      " conv2d (Conv2D)             (None, 255, 255, 32)      2432      \n",
      "                                                                 \n",
      " conv2d_1 (Conv2D)           (None, 255, 255, 64)      51264     \n",
      "                                                                 \n",
      " max_pooling2d (MaxPooling2D  (None, 63, 63, 64)       0         \n",
      " )                                                               \n",
      "                                                                 \n",
      " conv2d_2 (Conv2D)           (None, 63, 63, 128)       131200    \n",
      "                                                                 \n",
      " conv2d_3 (Conv2D)           (None, 63, 63, 160)       327840    \n",
      "                                                                 \n",
      " max_pooling2d_1 (MaxPooling  (None, 21, 21, 160)      0         \n",
      " 2D)                                                             \n",
      "                                                                 \n",
      " conv2d_4 (Conv2D)           (None, 21, 21, 256)       368896    \n",
      "                                                                 \n",
      " flatten (Flatten)           (None, 112896)            0         \n",
      "                                                                 \n",
      " dense (Dense)               (None, 64)                7225408   \n",
      "                                                                 \n",
      " dropout (Dropout)           (None, 64)                0         \n",
      "                                                                 \n",
      " dense_1 (Dense)             (None, 30)                1950      \n",
      "                                                                 \n",
      " dropout_1 (Dropout)         (None, 30)                0         \n",
      "                                                                 \n",
      " dense_2 (Dense)             (None, 2)                 62        \n",
      "                                                                 \n",
      "=================================================================\n",
      "Total params: 8,109,052\n",
      "Trainable params: 8,109,052\n",
      "Non-trainable params: 0\n",
      "_________________________________________________________________\n"
     ]
    }
   ],
   "source": [
    "model.summary()"
   ]
  },
  {
   "cell_type": "code",
   "execution_count": 5,
   "metadata": {},
   "outputs": [],
   "source": [
    "dir_train = os.environ.get('TRAIN_PATH')\n",
    "dir_test = os.environ.get('TEST_PATH')\n",
    "dir_val = os.environ.get('VAL_PATH')"
   ]
  },
  {
   "cell_type": "code",
   "execution_count": 6,
   "metadata": {},
   "outputs": [
    {
     "name": "stdout",
     "output_type": "stream",
     "text": [
      "Found 130 files belonging to 2 classes.\n"
     ]
    }
   ],
   "source": [
    "dataset_train = image_dataset_from_directory(\n",
    "  dir_train,\n",
    "  labels = \"inferred\",\n",
    "  label_mode = \"categorical\",\n",
    "  seed=123,\n",
    "  image_size=(255,255),\n",
    "  batch_size=8)"
   ]
  },
  {
   "cell_type": "code",
   "execution_count": 7,
   "metadata": {},
   "outputs": [
    {
     "name": "stdout",
     "output_type": "stream",
     "text": [
      "Found 318 files belonging to 2 classes.\n"
     ]
    }
   ],
   "source": [
    "dataset_val = image_dataset_from_directory(\n",
    "    dir_val,\n",
    "    labels = \"inferred\",\n",
    "    label_mode = \"categorical\",\n",
    "    seed=123,\n",
    "    image_size=(255,255),\n",
    "    batch_size=8\n",
    ")"
   ]
  },
  {
   "cell_type": "code",
   "execution_count": 8,
   "metadata": {},
   "outputs": [
    {
     "name": "stdout",
     "output_type": "stream",
     "text": [
      "Found 130 files belonging to 2 classes.\n"
     ]
    }
   ],
   "source": [
    "dataset_test = image_dataset_from_directory(\n",
    "    dir_test,\n",
    "    labels = 'inferred',\n",
    "    label_mode = 'categorical',\n",
    "    seed=123,\n",
    "    image_size=(255,255),\n",
    "    batch_size=8,\n",
    ")"
   ]
  },
  {
   "cell_type": "code",
   "execution_count": 9,
   "metadata": {},
   "outputs": [],
   "source": [
    "# datagen\n",
    "datagen = ImageDataGenerator(\n",
    "    featurewise_center = False,\n",
    "    featurewise_std_normalization = False,\n",
    "    rotation_range = 10,\n",
    "    width_shift_range = 0.1,\n",
    "    height_shift_range = 0.1,\n",
    "    horizontal_flip = True,\n",
    "    zoom_range = (0.8, 1.2),\n",
    ")"
   ]
  },
  {
   "cell_type": "code",
   "execution_count": 11,
   "metadata": {},
   "outputs": [],
   "source": [
    "# dataset_train = datagen.flow(dataset_train)\n",
    "\n",
    "# Apply data augmentation and prefetch the data\n",
    "# dataset_train = dataset_train.map(lambda x, y: (datagen.random_transform(x), y)).prefetch(buffer_size=tf.data.experimental.AUTOTUNE)"
   ]
  },
  {
   "cell_type": "code",
   "execution_count": 12,
   "metadata": {},
   "outputs": [
    {
     "name": "stdout",
     "output_type": "stream",
     "text": [
      "Epoch 1/20\n"
     ]
    },
    {
     "name": "stderr",
     "output_type": "stream",
     "text": [
      "2023-12-16 16:47:08.991384: W tensorflow/core/platform/profile_utils/cpu_utils.cc:128] Failed to get CPU frequency: 0 Hz\n"
     ]
    },
    {
     "name": "stdout",
     "output_type": "stream",
     "text": [
      "17/17 [==============================] - 24s 1s/step - loss: 83.2891 - recall_1: 0.5846 - val_loss: 0.6096 - val_recall_1: 0.9057\n",
      "Epoch 2/20\n",
      "17/17 [==============================] - 23s 1s/step - loss: 0.6125 - recall_1: 0.7538 - val_loss: 0.3059 - val_recall_1: 0.9057\n",
      "Epoch 3/20\n",
      "17/17 [==============================] - 23s 1s/step - loss: 0.4513 - recall_1: 0.8231 - val_loss: 0.2265 - val_recall_1: 0.8994\n",
      "Epoch 4/20\n",
      "17/17 [==============================] - 23s 1s/step - loss: 0.6963 - recall_1: 0.7538 - val_loss: 0.3856 - val_recall_1: 0.9057\n"
     ]
    }
   ],
   "source": [
    "#es_recall = EarlyStoppingByRecall(monitor='val_recall', value=0.90, verbose=1)\n",
    "es = EarlyStopping(patience=1,restore_best_weights=True)  # Early Stopping normal para la pérdida\n",
    "model = model_2_init()\n",
    "history = model.fit(dataset_train,validation_data=dataset_val,epochs=20,callbacks=[es])"
   ]
  },
  {
   "cell_type": "code",
   "execution_count": 20,
   "metadata": {},
   "outputs": [],
   "source": [
    "# read Datasets/Dataset_test/1 and put the path of each image in a list\n",
    "def load_datasets_test_1():\n",
    "    path_test = os.environ.get('TEST_PATH')\n",
    "    path_test = path_test + '/1'\n",
    "    list_test = []\n",
    "    for filename in os.listdir(path_test):\n",
    "        list_test.append(path_test + '/' + filename)\n",
    "    return list_test"
   ]
  },
  {
   "cell_type": "code",
   "execution_count": 21,
   "metadata": {},
   "outputs": [],
   "source": [
    "# load img, resize and reshape\n",
    "def load_img(path):\n",
    "    img = Image.open(path)\n",
    "    img = img.resize((255,255))\n",
    "    img = img_to_array(img)\n",
    "    img = np.expand_dims(img,axis=0)\n",
    "    img = np.resize(img,(255,255,3))\n",
    "    img = img.reshape((-1,255,255,3))\n",
    "    return img"
   ]
  },
  {
   "cell_type": "code",
   "execution_count": 22,
   "metadata": {},
   "outputs": [
    {
     "name": "stdout",
     "output_type": "stream",
     "text": [
      "1/1 [==============================] - 0s 41ms/step\n",
      "1/1 [==============================] - 0s 39ms/step\n",
      "1/1 [==============================] - 0s 45ms/step\n",
      "1/1 [==============================] - 0s 41ms/step\n",
      "1/1 [==============================] - 0s 41ms/step\n",
      "1/1 [==============================] - 0s 43ms/step\n",
      "1/1 [==============================] - 0s 39ms/step\n",
      "1/1 [==============================] - 0s 39ms/step\n",
      "1/1 [==============================] - 0s 41ms/step\n",
      "1/1 [==============================] - 0s 41ms/step\n",
      "1/1 [==============================] - 0s 39ms/step\n",
      "1/1 [==============================] - 0s 41ms/step\n",
      "1/1 [==============================] - 0s 43ms/step\n",
      "1/1 [==============================] - 0s 43ms/step\n",
      "1/1 [==============================] - 0s 42ms/step\n",
      "1/1 [==============================] - 0s 40ms/step\n",
      "1/1 [==============================] - 0s 40ms/step\n",
      "1/1 [==============================] - 0s 41ms/step\n",
      "1/1 [==============================] - 0s 42ms/step\n",
      "1/1 [==============================] - 0s 41ms/step\n",
      "1/1 [==============================] - 0s 39ms/step\n",
      "1/1 [==============================] - 0s 41ms/step\n",
      "1/1 [==============================] - 0s 47ms/step\n",
      "1/1 [==============================] - 0s 41ms/step\n",
      "1/1 [==============================] - 0s 39ms/step\n",
      "1/1 [==============================] - 0s 40ms/step\n",
      "1/1 [==============================] - 0s 42ms/step\n",
      "1/1 [==============================] - 0s 39ms/step\n",
      "1/1 [==============================] - 0s 40ms/step\n",
      "1/1 [==============================] - 0s 41ms/step\n"
     ]
    }
   ],
   "source": [
    "# load the images and predict\n",
    "img_tests_1 = load_datasets_test_1()\n",
    "predictions = []\n",
    "for img in img_tests_1:\n",
    "    img = load_img(img)\n",
    "    predictions.append(model.predict(img))"
   ]
  },
  {
   "cell_type": "code",
   "execution_count": 23,
   "metadata": {},
   "outputs": [
    {
     "name": "stdout",
     "output_type": "stream",
     "text": [
      "0\n",
      "0\n",
      "0\n",
      "0\n",
      "0\n",
      "0\n",
      "0\n",
      "0\n",
      "0\n",
      "0\n",
      "0\n",
      "0\n",
      "0\n",
      "0\n",
      "0\n",
      "0\n",
      "0\n",
      "0\n",
      "0\n",
      "0\n",
      "0\n",
      "0\n",
      "0\n",
      "0\n",
      "0\n",
      "0\n",
      "0\n",
      "0\n",
      "0\n",
      "0\n"
     ]
    }
   ],
   "source": [
    "# Obtener la categoria con más probabilidad\n",
    "for res in predictions:\n",
    "    dog_id = np.argmax(res.max())\n",
    "    print(dog_id)"
   ]
  }
 ],
 "metadata": {
  "kernelspec": {
   "display_name": "dog_buster",
   "language": "python",
   "name": "python3"
  },
  "language_info": {
   "codemirror_mode": {
    "name": "ipython",
    "version": 3
   },
   "file_extension": ".py",
   "mimetype": "text/x-python",
   "name": "python",
   "nbconvert_exporter": "python",
   "pygments_lexer": "ipython3",
   "version": "3.10.6"
  }
 },
 "nbformat": 4,
 "nbformat_minor": 2
}
