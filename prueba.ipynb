{
 "cells": [
  {
   "cell_type": "code",
   "execution_count": 223,
   "metadata": {},
   "outputs": [],
   "source": [
    "from PIL import Image\n",
    "import os\n",
    "import tensorflow as tf\n",
    "from tensorflow.keras.utils import image_dataset_from_directory\n",
    "import matplotlib.pyplot as plt\n",
    "import numpy as np\n",
    "from tensorflow.keras.callbacks import EarlyStopping\n",
    "from tensorflow.keras.preprocessing.image import array_to_img, img_to_array, load_img"
   ]
  },
  {
   "cell_type": "code",
   "execution_count": 259,
   "metadata": {},
   "outputs": [],
   "source": [
    "\n",
    "mopdel_1 = True\n",
    "def model_2_init():\n",
    "    input_shape=(255,255,3)\n",
    "    model = tf.keras.models.Sequential()\n",
    "    model.add(tf.keras.layers.Conv2D(32,kernel_size=(5,5),input_shape=input_shape,padding='valid',activation='relu'))\n",
    "    model.add(tf.keras.layers.Conv2D(64,kernel_size=(5,5),padding='valid',activation='relu'))\n",
    "    model.add(tf.keras.layers.MaxPool2D(pool_size=(4,4)))\n",
    "    model.add(tf.keras.layers.Conv2D(128,kernel_size=(4,4),padding='valid',activation='relu'))\n",
    "    model.add(tf.keras.layers.Conv2D(160,kernel_size=(4,4),padding='valid',activation='relu'))\n",
    "    model.add(tf.keras.layers.MaxPool2D(pool_size=(3,3)))\n",
    "    model.add(tf.keras.layers.Conv2D(256,kernel_size=(3,3),padding='valid',activation='relu'))\n",
    "    model.add(tf.keras.layers.Flatten())\n",
    "\n",
    "    model.add(tf.keras.layers.Dense(64,activation='relu'))\n",
    "    model.add(tf.keras.layers.Dropout(0.3))\n",
    "    model.add(tf.keras.layers.Dense(2,activation='softmax'))\n",
    "\n",
    "    model.compile(optimizer='adam',loss='categorical_crossentropy',metrics=[tf.keras.metrics.Recall()])\n",
    "    return model\n"
   ]
  },
  {
   "cell_type": "code",
   "execution_count": 260,
   "metadata": {},
   "outputs": [],
   "source": [
    "model = model_2_init()\n"
   ]
  },
  {
   "cell_type": "code",
   "execution_count": 261,
   "metadata": {},
   "outputs": [
    {
     "name": "stdout",
     "output_type": "stream",
     "text": [
      "Model: \"sequential_34\"\n",
      "_________________________________________________________________\n",
      " Layer (type)                Output Shape              Param #   \n",
      "=================================================================\n",
      " conv2d_170 (Conv2D)         (None, 251, 251, 32)      2432      \n",
      "                                                                 \n",
      " conv2d_171 (Conv2D)         (None, 247, 247, 64)      51264     \n",
      "                                                                 \n",
      " max_pooling2d_68 (MaxPooli  (None, 61, 61, 64)        0         \n",
      " ng2D)                                                           \n",
      "                                                                 \n",
      " conv2d_172 (Conv2D)         (None, 58, 58, 128)       131200    \n",
      "                                                                 \n",
      " conv2d_173 (Conv2D)         (None, 55, 55, 160)       327840    \n",
      "                                                                 \n",
      " max_pooling2d_69 (MaxPooli  (None, 18, 18, 160)       0         \n",
      " ng2D)                                                           \n",
      "                                                                 \n",
      " conv2d_174 (Conv2D)         (None, 16, 16, 256)       368896    \n",
      "                                                                 \n",
      " flatten_34 (Flatten)        (None, 65536)             0         \n",
      "                                                                 \n",
      " dense_68 (Dense)            (None, 64)                4194368   \n",
      "                                                                 \n",
      " dropout_34 (Dropout)        (None, 64)                0         \n",
      "                                                                 \n",
      " dense_69 (Dense)            (None, 2)                 130       \n",
      "                                                                 \n",
      "=================================================================\n",
      "Total params: 5076130 (19.36 MB)\n",
      "Trainable params: 5076130 (19.36 MB)\n",
      "Non-trainable params: 0 (0.00 Byte)\n",
      "_________________________________________________________________\n"
     ]
    }
   ],
   "source": [
    "model.summary()"
   ]
  },
  {
   "cell_type": "code",
   "execution_count": 262,
   "metadata": {},
   "outputs": [],
   "source": [
    "dir_train = '/Users/gasparburgi/code/lacorreyann/dog_buster/raw_data/Datasets/Dataset_Train'\n",
    "dir_test = '/Users/gasparburgi/code/lacorreyann/dog_buster/raw_data/Datasets/Dataset_Test'\n",
    "dir_val = '/Users/gasparburgi/code/lacorreyann/dog_buster/raw_data/Datasets/Dataset_Val'"
   ]
  },
  {
   "cell_type": "code",
   "execution_count": 275,
   "metadata": {},
   "outputs": [
    {
     "name": "stdout",
     "output_type": "stream",
     "text": [
      "Found 130 files belonging to 2 classes.\n"
     ]
    }
   ],
   "source": [
    "dataset_train = image_dataset_from_directory(\n",
    "  dir_train,\n",
    "  labels = \"inferred\",\n",
    "  label_mode = \"categorical\",\n",
    "  seed=123,\n",
    "  image_size=(255,255),\n",
    "  batch_size=8)"
   ]
  },
  {
   "cell_type": "code",
   "execution_count": 276,
   "metadata": {},
   "outputs": [
    {
     "name": "stdout",
     "output_type": "stream",
     "text": [
      "Found 318 files belonging to 2 classes.\n"
     ]
    }
   ],
   "source": [
    "dataset_val = image_dataset_from_directory(\n",
    "    dir_val,\n",
    "    labels = \"inferred\",\n",
    "    label_mode = \"categorical\",\n",
    "    seed=123,\n",
    "    image_size=(255,255),\n",
    "    batch_size=8\n",
    ")"
   ]
  },
  {
   "cell_type": "code",
   "execution_count": 277,
   "metadata": {},
   "outputs": [
    {
     "name": "stdout",
     "output_type": "stream",
     "text": [
      "Found 130 files belonging to 2 classes.\n"
     ]
    }
   ],
   "source": [
    "dataset_test = image_dataset_from_directory(\n",
    "    dir_test,\n",
    "    labels = 'inferred',\n",
    "    label_mode = 'categorical',\n",
    "    seed=123,\n",
    "    image_size=(255,255),\n",
    "    batch_size=8,\n",
    ")"
   ]
  },
  {
   "cell_type": "code",
   "execution_count": 278,
   "metadata": {},
   "outputs": [
    {
     "name": "stdout",
     "output_type": "stream",
     "text": [
      "Epoch 1/20\n",
      "17/17 [==============================] - 32s 2s/step - loss: 19.8877 - recall_10: 0.6231 - val_loss: 0.3330 - val_recall_10: 0.9057\n",
      "Epoch 2/20\n",
      "17/17 [==============================] - 35s 2s/step - loss: 0.6102 - recall_10: 0.6769 - val_loss: 0.4056 - val_recall_10: 0.9057\n",
      "Epoch 3/20\n",
      "17/17 [==============================] - ETA: 0s - loss: 0.5058 - recall_10: 0.7923"
     ]
    }
   ],
   "source": [
    "#es_recall = EarlyStoppingByRecall(monitor='val_recall', value=0.90, verbose=1)\n",
    "es = EarlyStopping(patience=3,restore_best_weights=True)  # Early Stopping normal para la pérdida\n",
    "model = model_2_init()\n",
    "history = model.fit(dataset_train,validation_data=dataset_val,epochs=20,callbacks=[es])"
   ]
  },
  {
   "cell_type": "code",
   "execution_count": 272,
   "metadata": {},
   "outputs": [
    {
     "name": "stdout",
     "output_type": "stream",
     "text": [
      "<class 'PIL.JpegImagePlugin.JpegImageFile'>\n",
      "(4032, 3024, 3)\n",
      "<class 'numpy.ndarray'>\n"
     ]
    }
   ],
   "source": [
    "from PIL import Image\n",
    "img = Image.open('/Users/gasparburgi/code/lacorreyann/dog_buster/raw_data/Datasets/Dataset_Test/1/IMG_1638.jpg')\n",
    "# Mostrar la imagen\n",
    "print(type(img))\n",
    "img = img_to_array(img)\n",
    "print(img.shape)\n",
    "print(type(img))\n",
    "img = np.resize(img,(255,255,3))\n",
    "img = img.reshape((-1,255,255,3))"
   ]
  },
  {
   "cell_type": "code",
   "execution_count": 274,
   "metadata": {},
   "outputs": [
    {
     "name": "stdout",
     "output_type": "stream",
     "text": [
      "1/1 [==============================] - 0s 85ms/step\n"
     ]
    },
    {
     "data": {
      "text/plain": [
       "array([[0.98548245, 0.01451749]], dtype=float32)"
      ]
     },
     "execution_count": 274,
     "metadata": {},
     "output_type": "execute_result"
    }
   ],
   "source": [
    "model.predict(img)"
   ]
  },
  {
   "cell_type": "code",
   "execution_count": null,
   "metadata": {},
   "outputs": [],
   "source": []
  }
 ],
 "metadata": {
  "kernelspec": {
   "display_name": "dog_buster",
   "language": "python",
   "name": "python3"
  },
  "language_info": {
   "codemirror_mode": {
    "name": "ipython",
    "version": 3
   },
   "file_extension": ".py",
   "mimetype": "text/x-python",
   "name": "python",
   "nbconvert_exporter": "python",
   "pygments_lexer": "ipython3",
   "version": "3.10.6"
  }
 },
 "nbformat": 4,
 "nbformat_minor": 2
}
